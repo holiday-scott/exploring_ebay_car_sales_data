{
  "nbformat": 4,
  "nbformat_minor": 0,
  "metadata": {
    "colab": {
      "name": "eBay Auto Sales.ipynb",
      "provenance": [],
      "collapsed_sections": [],
      "authorship_tag": "ABX9TyMK1Y6BOHjUvSJvR9k+DfmR",
      "include_colab_link": true
    },
    "kernelspec": {
      "name": "python3",
      "display_name": "Python 3"
    },
    "language_info": {
      "name": "python"
    }
  },
  "cells": [
    {
      "cell_type": "markdown",
      "metadata": {
        "id": "view-in-github",
        "colab_type": "text"
      },
      "source": [
        "<a href=\"https://colab.research.google.com/github/holiday-scott/exploring_ebay_car_sales_data/blob/main/eBay_Auto_Sales.ipynb\" target=\"_parent\"><img src=\"https://colab.research.google.com/assets/colab-badge.svg\" alt=\"Open In Colab\"/></a>"
      ]
    },
    {
      "cell_type": "markdown",
      "metadata": {
        "id": "b7h4qShPz8pZ"
      },
      "source": [
        "# eBay Auto Sales\n",
        "This analysis will make use of **Pandas**. \n",
        "\n",
        "## Aims\n",
        "- Clean a larger, more complex dataset using Pandas.\n",
        "- Analyse and visualise the dataset.\n",
        "\n",
        "## Dataset\n",
        "Used cars scraed from eBay Kleinanzeigen, a classifieds section of German eBay.\n",
        " \n",
        "### Data Dictionary\n",
        "- **dateCrawled** - When this ad was first crawled. All field-values are taken from this date.\n",
        "- **name** - Name of the car.\n",
        "- **seller** - Whether the seller is private or a dealer.\n",
        "- **offerType** - The type of listing\n",
        "- **price** - The price on the ad to sell the car.\n",
        "- **abtest** - Whether the listing is included in an A/B test.\n",
        "- **vehicleType** - The vehicle Type.\n",
        "- **yearOfRegistration** - The year in which the car was first registered.\n",
        "- **gearbox** - The transmission type.\n",
        "- **powerPS** - The power of the car in PS.\n",
        "- **model** - The car model name.\n",
        "- **kilometer** - How many kilometers the car has driven.\n",
        "- **monthOfRegistration** - The month in which the car was first registered.\n",
        "- **fuelType** - What type of fuel the car uses.\n",
        "- **brand** - The brand of the car.\n",
        "- **notRepairedDamage** - If the car has a damage which is not yet repaired.\n",
        "- **dateCreated** - The date on which the eBay listing was created.\n",
        "- **nrOfPictures** - The number of pictures in the ad.\n",
        "- **postalCode** - The postal code for the location of the vehicle.\n",
        "- **lastSeenOnline** - When the crawler saw this ad last online.\n"
      ]
    },
    {
      "cell_type": "markdown",
      "metadata": {
        "id": "zrCUylB_6LPn"
      },
      "source": [
        "# Import Libraries & Read Dataset"
      ]
    },
    {
      "cell_type": "code",
      "metadata": {
        "colab": {
          "base_uri": "https://localhost:8080/"
        },
        "id": "AjGBxeM84Ay6",
        "outputId": "49c1f345-61aa-44fd-a4d7-003555f319e3"
      },
      "source": [
        "# Mount Google.\n",
        "from google.colab import drive\n",
        "drive.mount(\"/content/gdrive\", force_remount=True)\n",
        "#drive.flush_and_unmount()\n",
        "\n",
        "# Find out where the data is.\n",
        "!ls \"gdrive/MyDrive/Colab Notebooks/gp3_autos/\"\n"
      ],
      "execution_count": null,
      "outputs": [
        {
          "output_type": "stream",
          "text": [
            "Mounted at /content/gdrive\n",
            " autos.csv  'eBay Auto Sales.ipynb'\n"
          ],
          "name": "stdout"
        }
      ]
    },
    {
      "cell_type": "code",
      "metadata": {
        "id": "tTTzz-0X5oFX"
      },
      "source": [
        "import pandas as pd\n",
        "import numpy as np\n",
        "\n",
        "autos = pd.read_csv('gdrive/MyDrive/Colab Notebooks/gp3_autos/autos.csv', encoding=\"Latin-1\")\n"
      ],
      "execution_count": null,
      "outputs": []
    },
    {
      "cell_type": "markdown",
      "metadata": {
        "id": "upp5_wVx8Olv"
      },
      "source": [
        "# DataFrame Details\n",
        "\n",
        "## Observations\n",
        "\n",
        "- Column headings are inconsistent and messy.\n",
        "- Dtype is not correct for many series.\n",
        "- The dataset is in German. Not a problem, per se.\n",
        "- Some columns are better than others...\n",
        "  - \"brand\" is consistent and there are no null values.\n",
        "  - \"vehicleType\" is categorical and has \"andere\" (others).\n",
        "  - There are a small number of \"wanted\" ads which could be removed as they are not consistent with the rest of the dataset.\n",
        "\n",
        "\n"
      ]
    },
    {
      "cell_type": "code",
      "metadata": {
        "colab": {
          "base_uri": "https://localhost:8080/"
        },
        "id": "sBOTtXxx-idd",
        "outputId": "d29e0a77-42c8-4290-d76a-8fbafbb88b4f"
      },
      "source": [
        "autos.info()"
      ],
      "execution_count": null,
      "outputs": [
        {
          "output_type": "stream",
          "text": [
            "<class 'pandas.core.frame.DataFrame'>\n",
            "RangeIndex: 371528 entries, 0 to 371527\n",
            "Data columns (total 20 columns):\n",
            " #   Column               Non-Null Count   Dtype \n",
            "---  ------               --------------   ----- \n",
            " 0   dateCrawled          371528 non-null  object\n",
            " 1   name                 371528 non-null  object\n",
            " 2   seller               371528 non-null  object\n",
            " 3   offerType            371528 non-null  object\n",
            " 4   price                371528 non-null  int64 \n",
            " 5   abtest               371528 non-null  object\n",
            " 6   vehicleType          333659 non-null  object\n",
            " 7   yearOfRegistration   371528 non-null  int64 \n",
            " 8   gearbox              351319 non-null  object\n",
            " 9   powerPS              371528 non-null  int64 \n",
            " 10  model                351044 non-null  object\n",
            " 11  kilometer            371528 non-null  int64 \n",
            " 12  monthOfRegistration  371528 non-null  int64 \n",
            " 13  fuelType             338142 non-null  object\n",
            " 14  brand                371528 non-null  object\n",
            " 15  notRepairedDamage    299468 non-null  object\n",
            " 16  dateCreated          371528 non-null  object\n",
            " 17  nrOfPictures         371528 non-null  int64 \n",
            " 18  postalCode           371528 non-null  int64 \n",
            " 19  lastSeen             371528 non-null  object\n",
            "dtypes: int64(7), object(13)\n",
            "memory usage: 56.7+ MB\n"
          ],
          "name": "stdout"
        }
      ]
    },
    {
      "cell_type": "code",
      "metadata": {
        "colab": {
          "base_uri": "https://localhost:8080/",
          "height": 394
        },
        "id": "0Hhr32yY-swd",
        "outputId": "1f392312-8d8b-488b-dd06-2c14054c8848"
      },
      "source": [
        " autos.head()"
      ],
      "execution_count": null,
      "outputs": [
        {
          "output_type": "execute_result",
          "data": {
            "text/html": [
              "<div>\n",
              "<style scoped>\n",
              "    .dataframe tbody tr th:only-of-type {\n",
              "        vertical-align: middle;\n",
              "    }\n",
              "\n",
              "    .dataframe tbody tr th {\n",
              "        vertical-align: top;\n",
              "    }\n",
              "\n",
              "    .dataframe thead th {\n",
              "        text-align: right;\n",
              "    }\n",
              "</style>\n",
              "<table border=\"1\" class=\"dataframe\">\n",
              "  <thead>\n",
              "    <tr style=\"text-align: right;\">\n",
              "      <th></th>\n",
              "      <th>dateCrawled</th>\n",
              "      <th>name</th>\n",
              "      <th>seller</th>\n",
              "      <th>offerType</th>\n",
              "      <th>price</th>\n",
              "      <th>abtest</th>\n",
              "      <th>vehicleType</th>\n",
              "      <th>yearOfRegistration</th>\n",
              "      <th>gearbox</th>\n",
              "      <th>powerPS</th>\n",
              "      <th>model</th>\n",
              "      <th>kilometer</th>\n",
              "      <th>monthOfRegistration</th>\n",
              "      <th>fuelType</th>\n",
              "      <th>brand</th>\n",
              "      <th>notRepairedDamage</th>\n",
              "      <th>dateCreated</th>\n",
              "      <th>nrOfPictures</th>\n",
              "      <th>postalCode</th>\n",
              "      <th>lastSeen</th>\n",
              "    </tr>\n",
              "  </thead>\n",
              "  <tbody>\n",
              "    <tr>\n",
              "      <th>0</th>\n",
              "      <td>2016-03-24 11:52:17</td>\n",
              "      <td>Golf_3_1.6</td>\n",
              "      <td>privat</td>\n",
              "      <td>Angebot</td>\n",
              "      <td>480</td>\n",
              "      <td>test</td>\n",
              "      <td>NaN</td>\n",
              "      <td>1993</td>\n",
              "      <td>manuell</td>\n",
              "      <td>0</td>\n",
              "      <td>golf</td>\n",
              "      <td>150000</td>\n",
              "      <td>0</td>\n",
              "      <td>benzin</td>\n",
              "      <td>volkswagen</td>\n",
              "      <td>NaN</td>\n",
              "      <td>2016-03-24 00:00:00</td>\n",
              "      <td>0</td>\n",
              "      <td>70435</td>\n",
              "      <td>2016-04-07 03:16:57</td>\n",
              "    </tr>\n",
              "    <tr>\n",
              "      <th>1</th>\n",
              "      <td>2016-03-24 10:58:45</td>\n",
              "      <td>A5_Sportback_2.7_Tdi</td>\n",
              "      <td>privat</td>\n",
              "      <td>Angebot</td>\n",
              "      <td>18300</td>\n",
              "      <td>test</td>\n",
              "      <td>coupe</td>\n",
              "      <td>2011</td>\n",
              "      <td>manuell</td>\n",
              "      <td>190</td>\n",
              "      <td>NaN</td>\n",
              "      <td>125000</td>\n",
              "      <td>5</td>\n",
              "      <td>diesel</td>\n",
              "      <td>audi</td>\n",
              "      <td>ja</td>\n",
              "      <td>2016-03-24 00:00:00</td>\n",
              "      <td>0</td>\n",
              "      <td>66954</td>\n",
              "      <td>2016-04-07 01:46:50</td>\n",
              "    </tr>\n",
              "    <tr>\n",
              "      <th>2</th>\n",
              "      <td>2016-03-14 12:52:21</td>\n",
              "      <td>Jeep_Grand_Cherokee_\"Overland\"</td>\n",
              "      <td>privat</td>\n",
              "      <td>Angebot</td>\n",
              "      <td>9800</td>\n",
              "      <td>test</td>\n",
              "      <td>suv</td>\n",
              "      <td>2004</td>\n",
              "      <td>automatik</td>\n",
              "      <td>163</td>\n",
              "      <td>grand</td>\n",
              "      <td>125000</td>\n",
              "      <td>8</td>\n",
              "      <td>diesel</td>\n",
              "      <td>jeep</td>\n",
              "      <td>NaN</td>\n",
              "      <td>2016-03-14 00:00:00</td>\n",
              "      <td>0</td>\n",
              "      <td>90480</td>\n",
              "      <td>2016-04-05 12:47:46</td>\n",
              "    </tr>\n",
              "    <tr>\n",
              "      <th>3</th>\n",
              "      <td>2016-03-17 16:54:04</td>\n",
              "      <td>GOLF_4_1_4__3TÜRER</td>\n",
              "      <td>privat</td>\n",
              "      <td>Angebot</td>\n",
              "      <td>1500</td>\n",
              "      <td>test</td>\n",
              "      <td>kleinwagen</td>\n",
              "      <td>2001</td>\n",
              "      <td>manuell</td>\n",
              "      <td>75</td>\n",
              "      <td>golf</td>\n",
              "      <td>150000</td>\n",
              "      <td>6</td>\n",
              "      <td>benzin</td>\n",
              "      <td>volkswagen</td>\n",
              "      <td>nein</td>\n",
              "      <td>2016-03-17 00:00:00</td>\n",
              "      <td>0</td>\n",
              "      <td>91074</td>\n",
              "      <td>2016-03-17 17:40:17</td>\n",
              "    </tr>\n",
              "    <tr>\n",
              "      <th>4</th>\n",
              "      <td>2016-03-31 17:25:20</td>\n",
              "      <td>Skoda_Fabia_1.4_TDI_PD_Classic</td>\n",
              "      <td>privat</td>\n",
              "      <td>Angebot</td>\n",
              "      <td>3600</td>\n",
              "      <td>test</td>\n",
              "      <td>kleinwagen</td>\n",
              "      <td>2008</td>\n",
              "      <td>manuell</td>\n",
              "      <td>69</td>\n",
              "      <td>fabia</td>\n",
              "      <td>90000</td>\n",
              "      <td>7</td>\n",
              "      <td>diesel</td>\n",
              "      <td>skoda</td>\n",
              "      <td>nein</td>\n",
              "      <td>2016-03-31 00:00:00</td>\n",
              "      <td>0</td>\n",
              "      <td>60437</td>\n",
              "      <td>2016-04-06 10:17:21</td>\n",
              "    </tr>\n",
              "  </tbody>\n",
              "</table>\n",
              "</div>"
            ],
            "text/plain": [
              "           dateCrawled  ...             lastSeen\n",
              "0  2016-03-24 11:52:17  ...  2016-04-07 03:16:57\n",
              "1  2016-03-24 10:58:45  ...  2016-04-07 01:46:50\n",
              "2  2016-03-14 12:52:21  ...  2016-04-05 12:47:46\n",
              "3  2016-03-17 16:54:04  ...  2016-03-17 17:40:17\n",
              "4  2016-03-31 17:25:20  ...  2016-04-06 10:17:21\n",
              "\n",
              "[5 rows x 20 columns]"
            ]
          },
          "metadata": {
            "tags": []
          },
          "execution_count": 69
        }
      ]
    },
    {
      "cell_type": "code",
      "metadata": {
        "colab": {
          "base_uri": "https://localhost:8080/"
        },
        "id": "goCbcJgE-ufc",
        "outputId": "f1db87c1-dea0-4874-e5d5-03dc96a062ea"
      },
      "source": [
        "autos[\"name\"].value_counts()"
      ],
      "execution_count": null,
      "outputs": [
        {
          "output_type": "execute_result",
          "data": {
            "text/plain": [
              "Ford_Fiesta                                         657\n",
              "BMW_318i                                            627\n",
              "Opel_Corsa                                          622\n",
              "Volkswagen_Golf_1.4                                 603\n",
              "BMW_316i                                            523\n",
              "                                                   ... \n",
              "Golf_3_GTI_Klima                                      1\n",
              "Audi_A6_Avant_1.8_T_TÜV_KLIMA_AUTOMATIK               1\n",
              "Verkaufe_Golf_3_4/5_Tuerer                            1\n",
              "Nissan_350Z___Neue_Kupplung_und_Bremsen__             1\n",
              "Mercedes_C320_Amg_packt_von_Werk_Tausch_moeglich      1\n",
              "Name: name, Length: 233531, dtype: int64"
            ]
          },
          "metadata": {
            "tags": []
          },
          "execution_count": 70
        }
      ]
    },
    {
      "cell_type": "code",
      "metadata": {
        "colab": {
          "base_uri": "https://localhost:8080/"
        },
        "id": "3tqHo5LHUexh",
        "outputId": "060e62fa-67dd-4244-94a8-14c2acd70a1a"
      },
      "source": [
        "autos[\"offerType\"].value_counts()"
      ],
      "execution_count": null,
      "outputs": [
        {
          "output_type": "execute_result",
          "data": {
            "text/plain": [
              "Angebot    371516\n",
              "Gesuch         12\n",
              "Name: offerType, dtype: int64"
            ]
          },
          "metadata": {
            "tags": []
          },
          "execution_count": 71
        }
      ]
    },
    {
      "cell_type": "markdown",
      "metadata": {
        "id": "Pa5AIXV4UpJJ"
      },
      "source": [
        "# Stage 1 Investigation\n",
        "\n",
        "### General observations\n",
        "- Columns need renaming\n",
        "- NaN in string columns is problematic:\n",
        "  - \"gearbox\"\n",
        "  - \"vehicleType\"\n",
        "  - \"model\"\n",
        "  - \"fuelType\"\n",
        "  - \"notRepairedDamage\"\n",
        "\n",
        "- Datetime columns are incorrectly formatted:\n",
        "  - \"dateCrawled\"\n",
        "  - \"yearOfRegistration\"\n",
        "  - \"monthOfRegistration\"\n",
        "  - \"dateCreated\"\n",
        "  - \"lastSeen\"\n",
        "\n",
        "### Valid Columns\n",
        "- \"gearbox\"\n",
        "- \"powerPS\"\n",
        "- \"model\"\n",
        "- \"brand\"\n",
        "- \"notRepairedDamage\"\n",
        "- \"kilometers\"\n",
        "\n",
        "### Drop Columns\n",
        "- \"nrOfPictures\" = empty\n",
        "- \"seller\" = 99% \"privat\"\n",
        "- \"offerType\" = 99% \"Angebot\"\n",
        "\n",
        "### Investigate Columns\n",
        "- \"price\" has a very high max value.\n",
        "- \"yearOfRegistration\" has outliers.\n",
        "\n"
      ]
    },
    {
      "cell_type": "code",
      "metadata": {
        "colab": {
          "base_uri": "https://localhost:8080/"
        },
        "id": "2IR5gfYUaBg5",
        "outputId": "4e1536de-72e2-4a6b-d9a1-c6362801146d"
      },
      "source": [
        "autos.dtypes"
      ],
      "execution_count": null,
      "outputs": [
        {
          "output_type": "execute_result",
          "data": {
            "text/plain": [
              "dateCrawled            object\n",
              "name                   object\n",
              "seller                 object\n",
              "offerType              object\n",
              "price                   int64\n",
              "abtest                 object\n",
              "vehicleType            object\n",
              "yearOfRegistration      int64\n",
              "gearbox                object\n",
              "powerPS                 int64\n",
              "model                  object\n",
              "kilometer               int64\n",
              "monthOfRegistration     int64\n",
              "fuelType               object\n",
              "brand                  object\n",
              "notRepairedDamage      object\n",
              "dateCreated            object\n",
              "nrOfPictures            int64\n",
              "postalCode              int64\n",
              "lastSeen               object\n",
              "dtype: object"
            ]
          },
          "metadata": {
            "tags": []
          },
          "execution_count": 24
        }
      ]
    },
    {
      "cell_type": "code",
      "metadata": {
        "colab": {
          "base_uri": "https://localhost:8080/",
          "height": 444
        },
        "id": "MwSkkpdZUucc",
        "outputId": "9fc14c0c-029f-4b24-fd44-6af84e304fd9"
      },
      "source": [
        "autos.describe(include='all')"
      ],
      "execution_count": null,
      "outputs": [
        {
          "output_type": "execute_result",
          "data": {
            "text/html": [
              "<div>\n",
              "<style scoped>\n",
              "    .dataframe tbody tr th:only-of-type {\n",
              "        vertical-align: middle;\n",
              "    }\n",
              "\n",
              "    .dataframe tbody tr th {\n",
              "        vertical-align: top;\n",
              "    }\n",
              "\n",
              "    .dataframe thead th {\n",
              "        text-align: right;\n",
              "    }\n",
              "</style>\n",
              "<table border=\"1\" class=\"dataframe\">\n",
              "  <thead>\n",
              "    <tr style=\"text-align: right;\">\n",
              "      <th></th>\n",
              "      <th>dateCrawled</th>\n",
              "      <th>name</th>\n",
              "      <th>seller</th>\n",
              "      <th>offerType</th>\n",
              "      <th>price</th>\n",
              "      <th>abtest</th>\n",
              "      <th>vehicleType</th>\n",
              "      <th>yearOfRegistration</th>\n",
              "      <th>gearbox</th>\n",
              "      <th>powerPS</th>\n",
              "      <th>model</th>\n",
              "      <th>kilometer</th>\n",
              "      <th>monthOfRegistration</th>\n",
              "      <th>fuelType</th>\n",
              "      <th>brand</th>\n",
              "      <th>notRepairedDamage</th>\n",
              "      <th>dateCreated</th>\n",
              "      <th>nrOfPictures</th>\n",
              "      <th>postalCode</th>\n",
              "      <th>lastSeen</th>\n",
              "    </tr>\n",
              "  </thead>\n",
              "  <tbody>\n",
              "    <tr>\n",
              "      <th>count</th>\n",
              "      <td>371528</td>\n",
              "      <td>371528</td>\n",
              "      <td>371528</td>\n",
              "      <td>371528</td>\n",
              "      <td>3.715280e+05</td>\n",
              "      <td>371528</td>\n",
              "      <td>333659</td>\n",
              "      <td>371528.000000</td>\n",
              "      <td>351319</td>\n",
              "      <td>371528.000000</td>\n",
              "      <td>351044</td>\n",
              "      <td>371528.000000</td>\n",
              "      <td>371528.000000</td>\n",
              "      <td>338142</td>\n",
              "      <td>371528</td>\n",
              "      <td>299468</td>\n",
              "      <td>371528</td>\n",
              "      <td>371528.0</td>\n",
              "      <td>371528.00000</td>\n",
              "      <td>371528</td>\n",
              "    </tr>\n",
              "    <tr>\n",
              "      <th>unique</th>\n",
              "      <td>280500</td>\n",
              "      <td>233531</td>\n",
              "      <td>2</td>\n",
              "      <td>2</td>\n",
              "      <td>NaN</td>\n",
              "      <td>2</td>\n",
              "      <td>8</td>\n",
              "      <td>NaN</td>\n",
              "      <td>2</td>\n",
              "      <td>NaN</td>\n",
              "      <td>251</td>\n",
              "      <td>NaN</td>\n",
              "      <td>NaN</td>\n",
              "      <td>7</td>\n",
              "      <td>40</td>\n",
              "      <td>2</td>\n",
              "      <td>114</td>\n",
              "      <td>NaN</td>\n",
              "      <td>NaN</td>\n",
              "      <td>182806</td>\n",
              "    </tr>\n",
              "    <tr>\n",
              "      <th>top</th>\n",
              "      <td>2016-03-24 14:49:47</td>\n",
              "      <td>Ford_Fiesta</td>\n",
              "      <td>privat</td>\n",
              "      <td>Angebot</td>\n",
              "      <td>NaN</td>\n",
              "      <td>test</td>\n",
              "      <td>limousine</td>\n",
              "      <td>NaN</td>\n",
              "      <td>manuell</td>\n",
              "      <td>NaN</td>\n",
              "      <td>golf</td>\n",
              "      <td>NaN</td>\n",
              "      <td>NaN</td>\n",
              "      <td>benzin</td>\n",
              "      <td>volkswagen</td>\n",
              "      <td>nein</td>\n",
              "      <td>2016-04-03 00:00:00</td>\n",
              "      <td>NaN</td>\n",
              "      <td>NaN</td>\n",
              "      <td>2016-04-07 06:45:59</td>\n",
              "    </tr>\n",
              "    <tr>\n",
              "      <th>freq</th>\n",
              "      <td>7</td>\n",
              "      <td>657</td>\n",
              "      <td>371525</td>\n",
              "      <td>371516</td>\n",
              "      <td>NaN</td>\n",
              "      <td>192585</td>\n",
              "      <td>95894</td>\n",
              "      <td>NaN</td>\n",
              "      <td>274214</td>\n",
              "      <td>NaN</td>\n",
              "      <td>30070</td>\n",
              "      <td>NaN</td>\n",
              "      <td>NaN</td>\n",
              "      <td>223857</td>\n",
              "      <td>79640</td>\n",
              "      <td>263182</td>\n",
              "      <td>14450</td>\n",
              "      <td>NaN</td>\n",
              "      <td>NaN</td>\n",
              "      <td>17</td>\n",
              "    </tr>\n",
              "    <tr>\n",
              "      <th>mean</th>\n",
              "      <td>NaN</td>\n",
              "      <td>NaN</td>\n",
              "      <td>NaN</td>\n",
              "      <td>NaN</td>\n",
              "      <td>1.729514e+04</td>\n",
              "      <td>NaN</td>\n",
              "      <td>NaN</td>\n",
              "      <td>2004.577997</td>\n",
              "      <td>NaN</td>\n",
              "      <td>115.549477</td>\n",
              "      <td>NaN</td>\n",
              "      <td>125618.688228</td>\n",
              "      <td>5.734445</td>\n",
              "      <td>NaN</td>\n",
              "      <td>NaN</td>\n",
              "      <td>NaN</td>\n",
              "      <td>NaN</td>\n",
              "      <td>0.0</td>\n",
              "      <td>50820.66764</td>\n",
              "      <td>NaN</td>\n",
              "    </tr>\n",
              "    <tr>\n",
              "      <th>std</th>\n",
              "      <td>NaN</td>\n",
              "      <td>NaN</td>\n",
              "      <td>NaN</td>\n",
              "      <td>NaN</td>\n",
              "      <td>3.587954e+06</td>\n",
              "      <td>NaN</td>\n",
              "      <td>NaN</td>\n",
              "      <td>92.866598</td>\n",
              "      <td>NaN</td>\n",
              "      <td>192.139578</td>\n",
              "      <td>NaN</td>\n",
              "      <td>40112.337051</td>\n",
              "      <td>3.712412</td>\n",
              "      <td>NaN</td>\n",
              "      <td>NaN</td>\n",
              "      <td>NaN</td>\n",
              "      <td>NaN</td>\n",
              "      <td>0.0</td>\n",
              "      <td>25799.08247</td>\n",
              "      <td>NaN</td>\n",
              "    </tr>\n",
              "    <tr>\n",
              "      <th>min</th>\n",
              "      <td>NaN</td>\n",
              "      <td>NaN</td>\n",
              "      <td>NaN</td>\n",
              "      <td>NaN</td>\n",
              "      <td>0.000000e+00</td>\n",
              "      <td>NaN</td>\n",
              "      <td>NaN</td>\n",
              "      <td>1000.000000</td>\n",
              "      <td>NaN</td>\n",
              "      <td>0.000000</td>\n",
              "      <td>NaN</td>\n",
              "      <td>5000.000000</td>\n",
              "      <td>0.000000</td>\n",
              "      <td>NaN</td>\n",
              "      <td>NaN</td>\n",
              "      <td>NaN</td>\n",
              "      <td>NaN</td>\n",
              "      <td>0.0</td>\n",
              "      <td>1067.00000</td>\n",
              "      <td>NaN</td>\n",
              "    </tr>\n",
              "    <tr>\n",
              "      <th>25%</th>\n",
              "      <td>NaN</td>\n",
              "      <td>NaN</td>\n",
              "      <td>NaN</td>\n",
              "      <td>NaN</td>\n",
              "      <td>1.150000e+03</td>\n",
              "      <td>NaN</td>\n",
              "      <td>NaN</td>\n",
              "      <td>1999.000000</td>\n",
              "      <td>NaN</td>\n",
              "      <td>70.000000</td>\n",
              "      <td>NaN</td>\n",
              "      <td>125000.000000</td>\n",
              "      <td>3.000000</td>\n",
              "      <td>NaN</td>\n",
              "      <td>NaN</td>\n",
              "      <td>NaN</td>\n",
              "      <td>NaN</td>\n",
              "      <td>0.0</td>\n",
              "      <td>30459.00000</td>\n",
              "      <td>NaN</td>\n",
              "    </tr>\n",
              "    <tr>\n",
              "      <th>50%</th>\n",
              "      <td>NaN</td>\n",
              "      <td>NaN</td>\n",
              "      <td>NaN</td>\n",
              "      <td>NaN</td>\n",
              "      <td>2.950000e+03</td>\n",
              "      <td>NaN</td>\n",
              "      <td>NaN</td>\n",
              "      <td>2003.000000</td>\n",
              "      <td>NaN</td>\n",
              "      <td>105.000000</td>\n",
              "      <td>NaN</td>\n",
              "      <td>150000.000000</td>\n",
              "      <td>6.000000</td>\n",
              "      <td>NaN</td>\n",
              "      <td>NaN</td>\n",
              "      <td>NaN</td>\n",
              "      <td>NaN</td>\n",
              "      <td>0.0</td>\n",
              "      <td>49610.00000</td>\n",
              "      <td>NaN</td>\n",
              "    </tr>\n",
              "    <tr>\n",
              "      <th>75%</th>\n",
              "      <td>NaN</td>\n",
              "      <td>NaN</td>\n",
              "      <td>NaN</td>\n",
              "      <td>NaN</td>\n",
              "      <td>7.200000e+03</td>\n",
              "      <td>NaN</td>\n",
              "      <td>NaN</td>\n",
              "      <td>2008.000000</td>\n",
              "      <td>NaN</td>\n",
              "      <td>150.000000</td>\n",
              "      <td>NaN</td>\n",
              "      <td>150000.000000</td>\n",
              "      <td>9.000000</td>\n",
              "      <td>NaN</td>\n",
              "      <td>NaN</td>\n",
              "      <td>NaN</td>\n",
              "      <td>NaN</td>\n",
              "      <td>0.0</td>\n",
              "      <td>71546.00000</td>\n",
              "      <td>NaN</td>\n",
              "    </tr>\n",
              "    <tr>\n",
              "      <th>max</th>\n",
              "      <td>NaN</td>\n",
              "      <td>NaN</td>\n",
              "      <td>NaN</td>\n",
              "      <td>NaN</td>\n",
              "      <td>2.147484e+09</td>\n",
              "      <td>NaN</td>\n",
              "      <td>NaN</td>\n",
              "      <td>9999.000000</td>\n",
              "      <td>NaN</td>\n",
              "      <td>20000.000000</td>\n",
              "      <td>NaN</td>\n",
              "      <td>150000.000000</td>\n",
              "      <td>12.000000</td>\n",
              "      <td>NaN</td>\n",
              "      <td>NaN</td>\n",
              "      <td>NaN</td>\n",
              "      <td>NaN</td>\n",
              "      <td>0.0</td>\n",
              "      <td>99998.00000</td>\n",
              "      <td>NaN</td>\n",
              "    </tr>\n",
              "  </tbody>\n",
              "</table>\n",
              "</div>"
            ],
            "text/plain": [
              "                dateCrawled         name  ...    postalCode             lastSeen\n",
              "count                371528       371528  ...  371528.00000               371528\n",
              "unique               280500       233531  ...           NaN               182806\n",
              "top     2016-03-24 14:49:47  Ford_Fiesta  ...           NaN  2016-04-07 06:45:59\n",
              "freq                      7          657  ...           NaN                   17\n",
              "mean                    NaN          NaN  ...   50820.66764                  NaN\n",
              "std                     NaN          NaN  ...   25799.08247                  NaN\n",
              "min                     NaN          NaN  ...    1067.00000                  NaN\n",
              "25%                     NaN          NaN  ...   30459.00000                  NaN\n",
              "50%                     NaN          NaN  ...   49610.00000                  NaN\n",
              "75%                     NaN          NaN  ...   71546.00000                  NaN\n",
              "max                     NaN          NaN  ...   99998.00000                  NaN\n",
              "\n",
              "[11 rows x 20 columns]"
            ]
          },
          "metadata": {
            "tags": []
          },
          "execution_count": 6
        }
      ]
    },
    {
      "cell_type": "code",
      "metadata": {
        "colab": {
          "base_uri": "https://localhost:8080/"
        },
        "id": "lGC_XKWsezA5",
        "outputId": "c820e2f1-29ee-4c27-e8b6-924a4a1b934d"
      },
      "source": [
        "autos[\"seller\"].value_counts()"
      ],
      "execution_count": null,
      "outputs": [
        {
          "output_type": "execute_result",
          "data": {
            "text/plain": [
              "privat        371525\n",
              "gewerblich         3\n",
              "Name: seller, dtype: int64"
            ]
          },
          "metadata": {
            "tags": []
          },
          "execution_count": 48
        }
      ]
    },
    {
      "cell_type": "code",
      "metadata": {
        "colab": {
          "base_uri": "https://localhost:8080/"
        },
        "id": "OIvO5n_ggA2e",
        "outputId": "af1c2d17-acfa-4e7f-a605-34ac090a5dfe"
      },
      "source": [
        "autos[\"offerType\"].value_counts()"
      ],
      "execution_count": null,
      "outputs": [
        {
          "output_type": "execute_result",
          "data": {
            "text/plain": [
              "Angebot    371516\n",
              "Gesuch         12\n",
              "Name: offerType, dtype: int64"
            ]
          },
          "metadata": {
            "tags": []
          },
          "execution_count": 72
        }
      ]
    },
    {
      "cell_type": "code",
      "metadata": {
        "colab": {
          "base_uri": "https://localhost:8080/"
        },
        "id": "8QJVPFvhjIDu",
        "outputId": "2a4dc613-4631-4f17-ad12-f04a11631bf0"
      },
      "source": [
        "autos[\"nrOfPictures\"].value_counts()"
      ],
      "execution_count": null,
      "outputs": [
        {
          "output_type": "execute_result",
          "data": {
            "text/plain": [
              "0    371528\n",
              "Name: nrOfPictures, dtype: int64"
            ]
          },
          "metadata": {
            "tags": []
          },
          "execution_count": 73
        }
      ]
    },
    {
      "cell_type": "code",
      "metadata": {
        "colab": {
          "base_uri": "https://localhost:8080/"
        },
        "id": "l5HCz659ct13",
        "outputId": "ad3b0da9-6d1e-4532-99fe-9b11649e10d4"
      },
      "source": [
        "autos[\"vehicleType\"].iloc[0:22]"
      ],
      "execution_count": null,
      "outputs": [
        {
          "output_type": "execute_result",
          "data": {
            "text/plain": [
              "0            NaN\n",
              "1          coupe\n",
              "2            suv\n",
              "3     kleinwagen\n",
              "4     kleinwagen\n",
              "5      limousine\n",
              "6         cabrio\n",
              "7      limousine\n",
              "8            bus\n",
              "9     kleinwagen\n",
              "10     limousine\n",
              "11         kombi\n",
              "12         kombi\n",
              "13         kombi\n",
              "14           suv\n",
              "15    kleinwagen\n",
              "16           NaN\n",
              "17    kleinwagen\n",
              "18           bus\n",
              "19           bus\n",
              "20         coupe\n",
              "21     limousine\n",
              "Name: vehicleType, dtype: object"
            ]
          },
          "metadata": {
            "tags": []
          },
          "execution_count": 39
        }
      ]
    },
    {
      "cell_type": "code",
      "metadata": {
        "colab": {
          "base_uri": "https://localhost:8080/"
        },
        "id": "-rl8RREhbuXK",
        "outputId": "f5591684-dcfe-4ec3-e5ae-ddd4f43c70d7"
      },
      "source": [
        "autos['gearbox'].value_counts()"
      ],
      "execution_count": null,
      "outputs": [
        {
          "output_type": "execute_result",
          "data": {
            "text/plain": [
              "manuell      274214\n",
              "automatik     77105\n",
              "Name: gearbox, dtype: int64"
            ]
          },
          "metadata": {
            "tags": []
          },
          "execution_count": 31
        }
      ]
    },
    {
      "cell_type": "code",
      "metadata": {
        "colab": {
          "base_uri": "https://localhost:8080/"
        },
        "id": "siVWz0RfcGRB",
        "outputId": "0641933f-f3da-44c9-9daf-fbf0869f6988"
      },
      "source": [
        "autos['brand'].value_counts()"
      ],
      "execution_count": null,
      "outputs": [
        {
          "output_type": "execute_result",
          "data": {
            "text/plain": [
              "volkswagen        79640\n",
              "bmw               40274\n",
              "opel              40136\n",
              "mercedes_benz     35309\n",
              "audi              32873\n",
              "ford              25573\n",
              "renault           17969\n",
              "peugeot           11027\n",
              "fiat               9676\n",
              "seat               7022\n",
              "mazda              5695\n",
              "skoda              5641\n",
              "smart              5249\n",
              "citroen            5182\n",
              "nissan             5037\n",
              "toyota             4694\n",
              "sonstige_autos     3982\n",
              "hyundai            3646\n",
              "mini               3394\n",
              "volvo              3327\n",
              "mitsubishi         3061\n",
              "honda              2836\n",
              "kia                2555\n",
              "alfa_romeo         2345\n",
              "suzuki             2328\n",
              "porsche            2215\n",
              "chevrolet          1845\n",
              "chrysler           1452\n",
              "dacia               900\n",
              "jeep                807\n",
              "daihatsu            806\n",
              "subaru              779\n",
              "land_rover          770\n",
              "jaguar              621\n",
              "trabant             591\n",
              "daewoo              542\n",
              "saab                530\n",
              "rover               490\n",
              "lancia              484\n",
              "lada                225\n",
              "Name: brand, dtype: int64"
            ]
          },
          "metadata": {
            "tags": []
          },
          "execution_count": 32
        }
      ]
    },
    {
      "cell_type": "markdown",
      "metadata": {
        "id": "XSOgPlgLWZzb"
      },
      "source": [
        "# Stage 1 Cleaning\n",
        "The following steps will be done in the cleaning processes:\n",
        "1. Rename columns - DataFrame.columns\n",
        "2. Dropping useless columns\n",
        "\n"
      ]
    },
    {
      "cell_type": "markdown",
      "metadata": {
        "id": "R_nFGcseWydF"
      },
      "source": [
        "## 1. Rename Columns\n",
        "The columns use CamelCase sometimes and are generally hard to read."
      ]
    },
    {
      "cell_type": "code",
      "metadata": {
        "colab": {
          "base_uri": "https://localhost:8080/"
        },
        "id": "yLh2wPCSW29Y",
        "outputId": "fe43f3a1-d804-4349-fcab-ff32ed41d22a"
      },
      "source": [
        "# Copy used to ensure we have a copy of the old columns for reference if needed.\n",
        "columns_old = autos.columns.copy()\n",
        "print(columns_old)"
      ],
      "execution_count": null,
      "outputs": [
        {
          "output_type": "stream",
          "text": [
            "Index(['dateCrawled', 'name', 'seller', 'offerType', 'price', 'abtest',\n",
            "       'vehicleType', 'yearOfRegistration', 'gearbox', 'powerPS', 'model',\n",
            "       'kilometer', 'monthOfRegistration', 'fuelType', 'brand',\n",
            "       'notRepairedDamage', 'dateCreated', 'nrOfPictures', 'postalCode',\n",
            "       'lastSeen'],\n",
            "      dtype='object')\n"
          ],
          "name": "stdout"
        }
      ]
    },
    {
      "cell_type": "code",
      "metadata": {
        "id": "cVHTRbANW7DU"
      },
      "source": [
        "\n",
        "columns_new = ['date_crawled', # to snake_case\n",
        "'name', # no change\n",
        "'seller', # no change\n",
        "'offer_type', # to snake_case\n",
        "'price', # no change\n",
        "'ab_test', # to snake_case\n",
        "'vehicle_type', # to snake_case\n",
        "'registration_year', # clarity\n",
        "'gearbox', # no change\n",
        "'power_ps', # to snake_case\n",
        "'model', # no change\n",
        "'odometer_km', # more accurate\n",
        "'registration_month', #clarity\n",
        "'fuel_type', # to snake_case\n",
        "'brand', # no change\n",
        "'unrepaired_damage', # clarity\n",
        "'ad_created', # to snake_case\n",
        "'num_pictures', # clarity and to snake_case\n",
        "'postcode', # common usage\n",
        "'last_seen'] # to snake_case\n",
        "\n",
        "# Copy back (rather than assignment) to preserve versions\n",
        "autos.columns = columns_new.copy()"
      ],
      "execution_count": null,
      "outputs": []
    },
    {
      "cell_type": "code",
      "metadata": {
        "colab": {
          "base_uri": "https://localhost:8080/"
        },
        "id": "MqaNLldUYsaY",
        "outputId": "f3d4fbfe-092e-4017-8cc8-4d3b1bb76fe3"
      },
      "source": [
        "autos.columns"
      ],
      "execution_count": null,
      "outputs": [
        {
          "output_type": "execute_result",
          "data": {
            "text/plain": [
              "Index(['date_crawled', 'name', 'seller', 'offer_type', 'price', 'ab_test',\n",
              "       'vehicle_type', 'registration_year', 'gearbox', 'power_ps', 'model',\n",
              "       'odometer_km', 'registration_month', 'fuel_type', 'brand',\n",
              "       'unrepaired_damage', 'ad_created', 'num_pictures', 'postcode',\n",
              "       'last_seen'],\n",
              "      dtype='object')"
            ]
          },
          "metadata": {
            "tags": []
          },
          "execution_count": 77
        }
      ]
    },
    {
      "cell_type": "markdown",
      "metadata": {
        "id": "aGDnhT5GcP0r"
      },
      "source": [
        "## 2. Dropping Useless Columns\n",
        "\"num_pictures\", \"seller\" and \"offer_type\" should be dropped.\n"
      ]
    },
    {
      "cell_type": "code",
      "metadata": {
        "id": "NsJ1NT3qkyIm"
      },
      "source": [
        "autos = autos.drop(columns=[\"num_pictures\", \"seller\", \"offer_type\"], axis=1)"
      ],
      "execution_count": null,
      "outputs": []
    },
    {
      "cell_type": "code",
      "metadata": {
        "colab": {
          "base_uri": "https://localhost:8080/"
        },
        "id": "51to9ZUGlr4a",
        "outputId": "5d373566-cda1-4977-c92a-02221649329c"
      },
      "source": [
        "autos.columns"
      ],
      "execution_count": null,
      "outputs": [
        {
          "output_type": "execute_result",
          "data": {
            "text/plain": [
              "Index(['date_crawled', 'name', 'price', 'ab_test', 'vehicle_type',\n",
              "       'registration_year', 'gearbox', 'power_ps', 'model', 'odometer_km',\n",
              "       'registration_month', 'fuel_type', 'brand', 'unrepaired_damage',\n",
              "       'ad_created', 'postcode', 'last_seen'],\n",
              "      dtype='object')"
            ]
          },
          "metadata": {
            "tags": []
          },
          "execution_count": 86
        }
      ]
    },
    {
      "cell_type": "markdown",
      "metadata": {
        "id": "y_6NcytCqMct"
      },
      "source": [
        "# Stage 2 Cleaning\n",
        "\n",
        "### Outliers\n",
        "There are outliers in these columns which need removing:\n",
        "- \"registration_year\"\n",
        "- \"price\"\n",
        "\n",
        "### Techniques\n",
        "- Series.unique().shape\n",
        "- Series.describe()\n",
        "- Series.value_counts().head()\n",
        "- Series.value_counts().sort_index()\n",
        "- Boolean: df[df[\"col\"].between(x,y)]\n"
      ]
    },
    {
      "cell_type": "markdown",
      "metadata": {
        "id": "jiB581zNGbAS"
      },
      "source": [
        "### \"registration_year\""
      ]
    },
    {
      "cell_type": "code",
      "metadata": {
        "colab": {
          "base_uri": "https://localhost:8080/"
        },
        "id": "TOsoWnFzuqYF",
        "outputId": "1418a63d-788b-44ad-b5c3-765fc79cb299"
      },
      "source": [
        "autos[\"registration_year\"].describe()"
      ],
      "execution_count": null,
      "outputs": [
        {
          "output_type": "execute_result",
          "data": {
            "text/plain": [
              "count    371528.000000\n",
              "mean       2004.577997\n",
              "std          92.866598\n",
              "min        1000.000000\n",
              "25%        1999.000000\n",
              "50%        2003.000000\n",
              "75%        2008.000000\n",
              "max        9999.000000\n",
              "Name: registration_year, dtype: float64"
            ]
          },
          "metadata": {
            "tags": []
          },
          "execution_count": 110
        }
      ]
    },
    {
      "cell_type": "markdown",
      "metadata": {
        "id": "hY6EQvrKFvlS"
      },
      "source": [
        "Confirm there are years well out of range."
      ]
    },
    {
      "cell_type": "code",
      "metadata": {
        "colab": {
          "base_uri": "https://localhost:8080/"
        },
        "id": "kSelSEPoxw9j",
        "outputId": "f00b2688-a12a-44aa-9518-5d6eb3a02b77"
      },
      "source": [
        "autos[\"registration_year\"].value_counts().head()"
      ],
      "execution_count": null,
      "outputs": [
        {
          "output_type": "execute_result",
          "data": {
            "text/plain": [
              "2000.0    24551\n",
              "1999.0    22767\n",
              "2005.0    22316\n",
              "2006.0    20230\n",
              "2001.0    20218\n",
              "Name: registration_year, dtype: int64"
            ]
          },
          "metadata": {
            "tags": []
          },
          "execution_count": 165
        }
      ]
    },
    {
      "cell_type": "markdown",
      "metadata": {
        "id": "jWiiqr3lwlS4"
      },
      "source": [
        "Confirm our desired values are the dominant values."
      ]
    },
    {
      "cell_type": "code",
      "metadata": {
        "colab": {
          "base_uri": "https://localhost:8080/",
          "height": 282
        },
        "id": "QUsGOmgQyCUh",
        "outputId": "667299c1-e250-46b0-c7ee-5b0e256698e9"
      },
      "source": [
        "#Comment out so visualisation doesn't revert.\n",
        "#initial_year_distribution = autos[\"registration_year\"].value_counts().sort_index()\n",
        "#initial_year_distribution.plot()"
      ],
      "execution_count": null,
      "outputs": [
        {
          "output_type": "execute_result",
          "data": {
            "text/plain": [
              "<matplotlib.axes._subplots.AxesSubplot at 0x7f4ee1478790>"
            ]
          },
          "metadata": {
            "tags": []
          },
          "execution_count": 121
        },
        {
          "output_type": "display_data",
          "data": {
            "image/png": "[encoded data removed]",
            "text/plain": [
              "<Figure size 432x288 with 1 Axes>"
            ]
          },
          "metadata": {
            "tags": [],
            "needs_background": "light"
          }
        }
      ]
    },
    {
      "cell_type": "markdown",
      "metadata": {
        "id": "ScIJ629PGEG3"
      },
      "source": [
        "Plot the initial distribution which we will fit to the normal curve."
      ]
    },
    {
      "cell_type": "code",
      "metadata": {
        "colab": {
          "base_uri": "https://localhost:8080/",
          "height": 282
        },
        "id": "TJdamkukAzPZ",
        "outputId": "a855c451-4b2b-4221-a164-347de2382d69"
      },
      "source": [
        "range_bool = autos[\"registration_year\"].between(1980,2020)\n",
        "final_distribution = autos[range_bool]\n",
        "final_distribution[\"registration_year\"].value_counts().sort_index().plot()"
      ],
      "execution_count": 247,
      "outputs": [
        {
          "output_type": "execute_result",
          "data": {
            "text/plain": [
              "<matplotlib.axes._subplots.AxesSubplot at 0x7f4ee00b7910>"
            ]
          },
          "metadata": {
            "tags": []
          },
          "execution_count": 247
        },
        {
          "output_type": "display_data",
          "data": {
            "image/png": "[encoded data removed]",
            "text/plain": [
              "<Figure size 432x288 with 1 Axes>"
            ]
          },
          "metadata": {
            "tags": [],
            "needs_background": "light"
          }
        }
      ]
    },
    {
      "cell_type": "markdown",
      "metadata": {
        "id": "Y9fzm4X7GKI3"
      },
      "source": [
        "Cars aged between 1980 and 2021 create an appropriate bell curve distribution with a few interesting features."
      ]
    },
    {
      "cell_type": "code",
      "metadata": {
        "id": "RbjTp4DNFc9i"
      },
      "source": [
        "autos[\"registration_year\"] = final_distribution[\"registration_year\"]"
      ],
      "execution_count": null,
      "outputs": []
    },
    {
      "cell_type": "markdown",
      "metadata": {
        "id": "t3D-bw-qFp1l"
      },
      "source": [
        "Finally, write the new distribution back to the main dataset."
      ]
    },
    {
      "cell_type": "markdown",
      "metadata": {
        "id": "S6Or5IjGGhYX"
      },
      "source": [
        "### \"price\""
      ]
    },
    {
      "cell_type": "code",
      "metadata": {
        "colab": {
          "base_uri": "https://localhost:8080/"
        },
        "id": "OjlkqbJ2Gi2g",
        "outputId": "41419811-752f-46ce-b43e-707109530c9b"
      },
      "source": [
        "autos[\"price\"].describe()"
      ],
      "execution_count": null,
      "outputs": [
        {
          "output_type": "execute_result",
          "data": {
            "text/plain": [
              "count    3.715280e+05\n",
              "mean     1.729514e+04\n",
              "std      3.587954e+06\n",
              "min      0.000000e+00\n",
              "25%      1.150000e+03\n",
              "50%      2.950000e+03\n",
              "75%      7.200000e+03\n",
              "max      2.147484e+09\n",
              "Name: price, dtype: float64"
            ]
          },
          "metadata": {
            "tags": []
          },
          "execution_count": 166
        }
      ]
    },
    {
      "cell_type": "markdown",
      "metadata": {
        "id": "7x1USeO6Gp2G"
      },
      "source": [
        "Confirm max and min values are outliers."
      ]
    },
    {
      "cell_type": "code",
      "metadata": {
        "colab": {
          "base_uri": "https://localhost:8080/",
          "height": 295
        },
        "id": "M2CsZA-UH2hi",
        "outputId": "53dd00e1-9215-4bf1-c199-5ef29751b014"
      },
      "source": [
        "autos[\"price\"].value_counts().sort_index().plot()"
      ],
      "execution_count": 171,
      "outputs": [
        {
          "output_type": "execute_result",
          "data": {
            "text/plain": [
              "<matplotlib.axes._subplots.AxesSubplot at 0x7f4ee0d80090>"
            ]
          },
          "metadata": {
            "tags": []
          },
          "execution_count": 171
        },
        {
          "output_type": "display_data",
          "data": {
            "image/png": "[encoded data removed]",
            "text/plain": [
              "<Figure size 432x288 with 1 Axes>"
            ]
          },
          "metadata": {
            "tags": [],
            "needs_background": "light"
          }
        }
      ]
    },
    {
      "cell_type": "markdown",
      "metadata": {
        "id": "72A9XBYmIMWb"
      },
      "source": [
        "Plot the initial distribution we will crop to fit a normal distribution."
      ]
    },
    {
      "cell_type": "code",
      "metadata": {
        "colab": {
          "base_uri": "https://localhost:8080/",
          "height": 282
        },
        "id": "8FPgjdpQIZZw",
        "outputId": "9763b50f-19d0-4f4b-f5c4-a270edd94bd6"
      },
      "source": [
        "price_bool = autos[\"price\"].between(1000,30000)\n",
        "final_price_distribution = autos[price_bool]\n",
        "final_price_distribution[\"price\"].value_counts().sort_index().plot()\n",
        "\n"
      ],
      "execution_count": 263,
      "outputs": [
        {
          "output_type": "execute_result",
          "data": {
            "text/plain": [
              "<matplotlib.axes._subplots.AxesSubplot at 0x7f4ee0cee150>"
            ]
          },
          "metadata": {
            "tags": []
          },
          "execution_count": 263
        },
        {
          "output_type": "display_data",
          "data": {
            "image/png": "[encoded data removed]",
            "text/plain": [
              "<Figure size 432x288 with 1 Axes>"
            ]
          },
          "metadata": {
            "tags": [],
            "needs_background": "light"
          }
        }
      ]
    },
    {
      "cell_type": "code",
      "metadata": {
        "colab": {
          "base_uri": "https://localhost:8080/",
          "height": 282
        },
        "id": "dH7-lFFVWPOK",
        "outputId": "67dc1567-5752-457a-ab4d-d7e4f6f858fd"
      },
      "source": [
        "price_bool = autos[\"price\"].between(1000,30000)\n",
        "final_price_distribution = autos[price_bool]\n",
        "final_price_distribution[\"price\"].sort_values().plot(kind='line')"
      ],
      "execution_count": 265,
      "outputs": [
        {
          "output_type": "execute_result",
          "data": {
            "text/plain": [
              "<matplotlib.axes._subplots.AxesSubplot at 0x7f4edff09ad0>"
            ]
          },
          "metadata": {
            "tags": []
          },
          "execution_count": 265
        },
        {
          "output_type": "display_data",
          "data": {
            "image/png": "[encoded data removed]",
            "text/plain": [
              "<Figure size 432x288 with 1 Axes>"
            ]
          },
          "metadata": {
            "tags": [],
            "needs_background": "light"
          }
        }
      ]
    }
  ]
}