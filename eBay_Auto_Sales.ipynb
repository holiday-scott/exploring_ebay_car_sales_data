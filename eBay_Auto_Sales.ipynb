{
  "nbformat": 4,
  "nbformat_minor": 0,
  "metadata": {
    "colab": {
      "name": "eBay Auto Sales.ipynb",
      "provenance": [],
      "collapsed_sections": [],
      "authorship_tag": "ABX9TyMOaWlRBspHFNDLxHi5fGFx",
      "include_colab_link": true
    },
    "kernelspec": {
      "name": "python3",
      "display_name": "Python 3"
    },
    "language_info": {
      "name": "python"
    }
  },
  "cells": [
    {
      "cell_type": "markdown",
      "metadata": {
        "id": "view-in-github",
        "colab_type": "text"
      },
      "source": [
        "<a href=\"https://colab.research.google.com/github/holiday-scott/exploring_ebay_car_sales_data/blob/main/eBay_Auto_Sales.ipynb\" target=\"_parent\"><img src=\"https://colab.research.google.com/assets/colab-badge.svg\" alt=\"Open In Colab\"/></a>"
      ]
    },
    {
      "cell_type": "markdown",
      "metadata": {
        "id": "b7h4qShPz8pZ"
      },
      "source": [
        "# eBay Auto Sales\n",
        "This analysis will make use of **Pandas**. \n",
        "\n",
        "## Aims\n",
        "- Clean a larger, more complex dataset using Pandas.\n",
        "- Analyse and visualise the dataset.\n",
        "\n",
        "## Dataset\n",
        "Used cars scraed from eBay Kleinanzeigen, a classifieds section of German eBay.\n",
        " \n",
        "### Data Dictionary\n",
        "- **dateCrawled** - When this ad was first crawled. All field-values are taken from this date.\n",
        "- **name** - Name of the car.\n",
        "- **seller** - Whether the seller is private or a dealer.\n",
        "- **offerType** - The type of listing\n",
        "- **price** - The price on the ad to sell the car.\n",
        "- **abtest** - Whether the listing is included in an A/B test.\n",
        "- **vehicleType** - The vehicle Type.\n",
        "- **yearOfRegistration** - The year in which the car was first registered.\n",
        "- **gearbox** - The transmission type.\n",
        "- **powerPS** - The power of the car in PS.\n",
        "- **model** - The car model name.\n",
        "- **kilometer** - How many kilometers the car has driven.\n",
        "- **monthOfRegistration** - The month in which the car was first registered.\n",
        "- **fuelType** - What type of fuel the car uses.\n",
        "- **brand** - The brand of the car.\n",
        "- **notRepairedDamage** - If the car has a damage which is not yet repaired.\n",
        "- **dateCreated** - The date on which the eBay listing was created.\n",
        "- **nrOfPictures** - The number of pictures in the ad.\n",
        "- **postalCode** - The postal code for the location of the vehicle.\n",
        "- **lastSeenOnline** - When the crawler saw this ad last online.\n"
      ]
    },
    {
      "cell_type": "markdown",
      "metadata": {
        "id": "zrCUylB_6LPn"
      },
      "source": [
        "# Read Dataset & Import Libraries"
      ]
    },
    {
      "cell_type": "code",
      "metadata": {
        "colab": {
          "base_uri": "https://localhost:8080/"
        },
        "id": "AjGBxeM84Ay6",
        "outputId": "ef137c43-50b8-4118-9842-ef2cfbffdbc3"
      },
      "source": [
        "# Mount Google.\n",
        "from google.colab import drive\n",
        "drive.mount(\"/content/gdrive\", force_remount=True)\n",
        "#drive.flush_and_unmount()\n",
        "\n",
        "# Find out where the data is.\n",
        "!ls \"gdrive/MyDrive/Colab Notebooks/gp3_autos/\"\n"
      ],
      "execution_count": 1,
      "outputs": [
        {
          "output_type": "stream",
          "text": [
            "Mounted at /content/gdrive\n",
            " autos.csv  'eBay Auto Sales.ipynb'\n"
          ],
          "name": "stdout"
        }
      ]
    },
    {
      "cell_type": "code",
      "metadata": {
        "id": "tTTzz-0X5oFX"
      },
      "source": [
        "import pandas as pd\n",
        "import numpy as np\n",
        "\n",
        "autos = pd.read_csv('gdrive/MyDrive/Colab Notebooks/gp3_autos/autos.csv', encoding=\"Latin-1\")\n"
      ],
      "execution_count": 2,
      "outputs": []
    },
    {
      "cell_type": "markdown",
      "metadata": {
        "id": "upp5_wVx8Olv"
      },
      "source": [
        "# DataFrame Details\n",
        "\n",
        "## Observations\n",
        "\n",
        "- Column headings are inconsistent and messy.\n",
        "- Dtype is not correct for many series.\n",
        "- The dataset is in German. Not a problem, per se.\n",
        "- Some columns are better than others...\n",
        "  - \"brand\" is consistent and there are no null values.\n",
        "  - \"vehicleType\" is categorical and has \"andere\" (others).\n",
        "  - There are a small number of \"wanted\" ads which could be removed as they are not consistent with the rest of the dataset.\n",
        "\n",
        "\n"
      ]
    },
    {
      "cell_type": "code",
      "metadata": {
        "colab": {
          "base_uri": "https://localhost:8080/"
        },
        "id": "sBOTtXxx-idd",
        "outputId": "d29e0a77-42c8-4290-d76a-8fbafbb88b4f"
      },
      "source": [
        "autos.info()"
      ],
      "execution_count": null,
      "outputs": [
        {
          "output_type": "stream",
          "text": [
            "<class 'pandas.core.frame.DataFrame'>\n",
            "RangeIndex: 371528 entries, 0 to 371527\n",
            "Data columns (total 20 columns):\n",
            " #   Column               Non-Null Count   Dtype \n",
            "---  ------               --------------   ----- \n",
            " 0   dateCrawled          371528 non-null  object\n",
            " 1   name                 371528 non-null  object\n",
            " 2   seller               371528 non-null  object\n",
            " 3   offerType            371528 non-null  object\n",
            " 4   price                371528 non-null  int64 \n",
            " 5   abtest               371528 non-null  object\n",
            " 6   vehicleType          333659 non-null  object\n",
            " 7   yearOfRegistration   371528 non-null  int64 \n",
            " 8   gearbox              351319 non-null  object\n",
            " 9   powerPS              371528 non-null  int64 \n",
            " 10  model                351044 non-null  object\n",
            " 11  kilometer            371528 non-null  int64 \n",
            " 12  monthOfRegistration  371528 non-null  int64 \n",
            " 13  fuelType             338142 non-null  object\n",
            " 14  brand                371528 non-null  object\n",
            " 15  notRepairedDamage    299468 non-null  object\n",
            " 16  dateCreated          371528 non-null  object\n",
            " 17  nrOfPictures         371528 non-null  int64 \n",
            " 18  postalCode           371528 non-null  int64 \n",
            " 19  lastSeen             371528 non-null  object\n",
            "dtypes: int64(7), object(13)\n",
            "memory usage: 56.7+ MB\n"
          ],
          "name": "stdout"
        }
      ]
    },
    {
      "cell_type": "code",
      "metadata": {
        "colab": {
          "base_uri": "https://localhost:8080/",
          "height": 394
        },
        "id": "0Hhr32yY-swd",
        "outputId": "1f392312-8d8b-488b-dd06-2c14054c8848"
      },
      "source": [
        " autos.head()"
      ],
      "execution_count": null,
      "outputs": [
        {
          "output_type": "execute_result",
          "data": {
            "text/html": [
              "<div>\n",
              "<style scoped>\n",
              "    .dataframe tbody tr th:only-of-type {\n",
              "        vertical-align: middle;\n",
              "    }\n",
              "\n",
              "    .dataframe tbody tr th {\n",
              "        vertical-align: top;\n",
              "    }\n",
              "\n",
              "    .dataframe thead th {\n",
              "        text-align: right;\n",
              "    }\n",
              "</style>\n",
              "<table border=\"1\" class=\"dataframe\">\n",
              "  <thead>\n",
              "    <tr style=\"text-align: right;\">\n",
              "      <th></th>\n",
              "      <th>dateCrawled</th>\n",
              "      <th>name</th>\n",
              "      <th>seller</th>\n",
              "      <th>offerType</th>\n",
              "      <th>price</th>\n",
              "      <th>abtest</th>\n",
              "      <th>vehicleType</th>\n",
              "      <th>yearOfRegistration</th>\n",
              "      <th>gearbox</th>\n",
              "      <th>powerPS</th>\n",
              "      <th>model</th>\n",
              "      <th>kilometer</th>\n",
              "      <th>monthOfRegistration</th>\n",
              "      <th>fuelType</th>\n",
              "      <th>brand</th>\n",
              "      <th>notRepairedDamage</th>\n",
              "      <th>dateCreated</th>\n",
              "      <th>nrOfPictures</th>\n",
              "      <th>postalCode</th>\n",
              "      <th>lastSeen</th>\n",
              "    </tr>\n",
              "  </thead>\n",
              "  <tbody>\n",
              "    <tr>\n",
              "      <th>0</th>\n",
              "      <td>2016-03-24 11:52:17</td>\n",
              "      <td>Golf_3_1.6</td>\n",
              "      <td>privat</td>\n",
              "      <td>Angebot</td>\n",
              "      <td>480</td>\n",
              "      <td>test</td>\n",
              "      <td>NaN</td>\n",
              "      <td>1993</td>\n",
              "      <td>manuell</td>\n",
              "      <td>0</td>\n",
              "      <td>golf</td>\n",
              "      <td>150000</td>\n",
              "      <td>0</td>\n",
              "      <td>benzin</td>\n",
              "      <td>volkswagen</td>\n",
              "      <td>NaN</td>\n",
              "      <td>2016-03-24 00:00:00</td>\n",
              "      <td>0</td>\n",
              "      <td>70435</td>\n",
              "      <td>2016-04-07 03:16:57</td>\n",
              "    </tr>\n",
              "    <tr>\n",
              "      <th>1</th>\n",
              "      <td>2016-03-24 10:58:45</td>\n",
              "      <td>A5_Sportback_2.7_Tdi</td>\n",
              "      <td>privat</td>\n",
              "      <td>Angebot</td>\n",
              "      <td>18300</td>\n",
              "      <td>test</td>\n",
              "      <td>coupe</td>\n",
              "      <td>2011</td>\n",
              "      <td>manuell</td>\n",
              "      <td>190</td>\n",
              "      <td>NaN</td>\n",
              "      <td>125000</td>\n",
              "      <td>5</td>\n",
              "      <td>diesel</td>\n",
              "      <td>audi</td>\n",
              "      <td>ja</td>\n",
              "      <td>2016-03-24 00:00:00</td>\n",
              "      <td>0</td>\n",
              "      <td>66954</td>\n",
              "      <td>2016-04-07 01:46:50</td>\n",
              "    </tr>\n",
              "    <tr>\n",
              "      <th>2</th>\n",
              "      <td>2016-03-14 12:52:21</td>\n",
              "      <td>Jeep_Grand_Cherokee_\"Overland\"</td>\n",
              "      <td>privat</td>\n",
              "      <td>Angebot</td>\n",
              "      <td>9800</td>\n",
              "      <td>test</td>\n",
              "      <td>suv</td>\n",
              "      <td>2004</td>\n",
              "      <td>automatik</td>\n",
              "      <td>163</td>\n",
              "      <td>grand</td>\n",
              "      <td>125000</td>\n",
              "      <td>8</td>\n",
              "      <td>diesel</td>\n",
              "      <td>jeep</td>\n",
              "      <td>NaN</td>\n",
              "      <td>2016-03-14 00:00:00</td>\n",
              "      <td>0</td>\n",
              "      <td>90480</td>\n",
              "      <td>2016-04-05 12:47:46</td>\n",
              "    </tr>\n",
              "    <tr>\n",
              "      <th>3</th>\n",
              "      <td>2016-03-17 16:54:04</td>\n",
              "      <td>GOLF_4_1_4__3TÜRER</td>\n",
              "      <td>privat</td>\n",
              "      <td>Angebot</td>\n",
              "      <td>1500</td>\n",
              "      <td>test</td>\n",
              "      <td>kleinwagen</td>\n",
              "      <td>2001</td>\n",
              "      <td>manuell</td>\n",
              "      <td>75</td>\n",
              "      <td>golf</td>\n",
              "      <td>150000</td>\n",
              "      <td>6</td>\n",
              "      <td>benzin</td>\n",
              "      <td>volkswagen</td>\n",
              "      <td>nein</td>\n",
              "      <td>2016-03-17 00:00:00</td>\n",
              "      <td>0</td>\n",
              "      <td>91074</td>\n",
              "      <td>2016-03-17 17:40:17</td>\n",
              "    </tr>\n",
              "    <tr>\n",
              "      <th>4</th>\n",
              "      <td>2016-03-31 17:25:20</td>\n",
              "      <td>Skoda_Fabia_1.4_TDI_PD_Classic</td>\n",
              "      <td>privat</td>\n",
              "      <td>Angebot</td>\n",
              "      <td>3600</td>\n",
              "      <td>test</td>\n",
              "      <td>kleinwagen</td>\n",
              "      <td>2008</td>\n",
              "      <td>manuell</td>\n",
              "      <td>69</td>\n",
              "      <td>fabia</td>\n",
              "      <td>90000</td>\n",
              "      <td>7</td>\n",
              "      <td>diesel</td>\n",
              "      <td>skoda</td>\n",
              "      <td>nein</td>\n",
              "      <td>2016-03-31 00:00:00</td>\n",
              "      <td>0</td>\n",
              "      <td>60437</td>\n",
              "      <td>2016-04-06 10:17:21</td>\n",
              "    </tr>\n",
              "  </tbody>\n",
              "</table>\n",
              "</div>"
            ],
            "text/plain": [
              "           dateCrawled  ...             lastSeen\n",
              "0  2016-03-24 11:52:17  ...  2016-04-07 03:16:57\n",
              "1  2016-03-24 10:58:45  ...  2016-04-07 01:46:50\n",
              "2  2016-03-14 12:52:21  ...  2016-04-05 12:47:46\n",
              "3  2016-03-17 16:54:04  ...  2016-03-17 17:40:17\n",
              "4  2016-03-31 17:25:20  ...  2016-04-06 10:17:21\n",
              "\n",
              "[5 rows x 20 columns]"
            ]
          },
          "metadata": {
            "tags": []
          },
          "execution_count": 69
        }
      ]
    },
    {
      "cell_type": "code",
      "metadata": {
        "colab": {
          "base_uri": "https://localhost:8080/"
        },
        "id": "goCbcJgE-ufc",
        "outputId": "f1db87c1-dea0-4874-e5d5-03dc96a062ea"
      },
      "source": [
        "autos[\"name\"].value_counts()"
      ],
      "execution_count": null,
      "outputs": [
        {
          "output_type": "execute_result",
          "data": {
            "text/plain": [
              "Ford_Fiesta                                         657\n",
              "BMW_318i                                            627\n",
              "Opel_Corsa                                          622\n",
              "Volkswagen_Golf_1.4                                 603\n",
              "BMW_316i                                            523\n",
              "                                                   ... \n",
              "Golf_3_GTI_Klima                                      1\n",
              "Audi_A6_Avant_1.8_T_TÜV_KLIMA_AUTOMATIK               1\n",
              "Verkaufe_Golf_3_4/5_Tuerer                            1\n",
              "Nissan_350Z___Neue_Kupplung_und_Bremsen__             1\n",
              "Mercedes_C320_Amg_packt_von_Werk_Tausch_moeglich      1\n",
              "Name: name, Length: 233531, dtype: int64"
            ]
          },
          "metadata": {
            "tags": []
          },
          "execution_count": 70
        }
      ]
    },
    {
      "cell_type": "code",
      "metadata": {
        "colab": {
          "base_uri": "https://localhost:8080/"
        },
        "id": "3tqHo5LHUexh",
        "outputId": "060e62fa-67dd-4244-94a8-14c2acd70a1a"
      },
      "source": [
        "autos[\"offerType\"].value_counts()"
      ],
      "execution_count": null,
      "outputs": [
        {
          "output_type": "execute_result",
          "data": {
            "text/plain": [
              "Angebot    371516\n",
              "Gesuch         12\n",
              "Name: offerType, dtype: int64"
            ]
          },
          "metadata": {
            "tags": []
          },
          "execution_count": 71
        }
      ]
    },
    {
      "cell_type": "markdown",
      "metadata": {
        "id": "Pa5AIXV4UpJJ"
      },
      "source": [
        "# Stage 1 Investigation\n",
        "\n",
        "### General observations\n",
        "- Columns need renaming\n",
        "- NaN in string columns is problematic:\n",
        "  - \"gearbox\"\n",
        "  - \"vehicleType\"\n",
        "  - \"model\"\n",
        "  - \"fuelType\"\n",
        "  - \"notRepairedDamage\"\n",
        "\n",
        "- Datetime columns are incorrectly formatted:\n",
        "  - \"dateCrawled\"\n",
        "  - \"yearOfRegistration\"\n",
        "  - \"monthOfRegistration\"\n",
        "  - \"dateCreated\"\n",
        "  - \"lastSeen\"\n",
        "\n",
        "### Valid Columns\n",
        "- \"gearbox\"\n",
        "- \"powerPS\"\n",
        "- \"model\"\n",
        "- \"brand\"\n",
        "- \"notRepairedDamage\"\n",
        "- \"kilometers\"\n",
        "\n",
        "### Drop Columns\n",
        "- \"nrOfPictures\" = empty\n",
        "- \"seller\" = 99% \"privat\"\n",
        "- \"offerType\" = 99% \"Angebot\"\n",
        "\n",
        "### Investigate Columns\n",
        "- \"price\" has a very high max value.\n",
        "- \"yearOfRegistration\" has outliers.\n",
        "\n"
      ]
    },
    {
      "cell_type": "code",
      "metadata": {
        "colab": {
          "base_uri": "https://localhost:8080/"
        },
        "id": "2IR5gfYUaBg5",
        "outputId": "4e1536de-72e2-4a6b-d9a1-c6362801146d"
      },
      "source": [
        "autos.dtypes"
      ],
      "execution_count": null,
      "outputs": [
        {
          "output_type": "execute_result",
          "data": {
            "text/plain": [
              "dateCrawled            object\n",
              "name                   object\n",
              "seller                 object\n",
              "offerType              object\n",
              "price                   int64\n",
              "abtest                 object\n",
              "vehicleType            object\n",
              "yearOfRegistration      int64\n",
              "gearbox                object\n",
              "powerPS                 int64\n",
              "model                  object\n",
              "kilometer               int64\n",
              "monthOfRegistration     int64\n",
              "fuelType               object\n",
              "brand                  object\n",
              "notRepairedDamage      object\n",
              "dateCreated            object\n",
              "nrOfPictures            int64\n",
              "postalCode              int64\n",
              "lastSeen               object\n",
              "dtype: object"
            ]
          },
          "metadata": {
            "tags": []
          },
          "execution_count": 24
        }
      ]
    },
    {
      "cell_type": "code",
      "metadata": {
        "colab": {
          "base_uri": "https://localhost:8080/",
          "height": 444
        },
        "id": "MwSkkpdZUucc",
        "outputId": "9fc14c0c-029f-4b24-fd44-6af84e304fd9"
      },
      "source": [
        "autos.describe(include='all')"
      ],
      "execution_count": null,
      "outputs": [
        {
          "output_type": "execute_result",
          "data": {
            "text/html": [
              "<div>\n",
              "<style scoped>\n",
              "    .dataframe tbody tr th:only-of-type {\n",
              "        vertical-align: middle;\n",
              "    }\n",
              "\n",
              "    .dataframe tbody tr th {\n",
              "        vertical-align: top;\n",
              "    }\n",
              "\n",
              "    .dataframe thead th {\n",
              "        text-align: right;\n",
              "    }\n",
              "</style>\n",
              "<table border=\"1\" class=\"dataframe\">\n",
              "  <thead>\n",
              "    <tr style=\"text-align: right;\">\n",
              "      <th></th>\n",
              "      <th>dateCrawled</th>\n",
              "      <th>name</th>\n",
              "      <th>seller</th>\n",
              "      <th>offerType</th>\n",
              "      <th>price</th>\n",
              "      <th>abtest</th>\n",
              "      <th>vehicleType</th>\n",
              "      <th>yearOfRegistration</th>\n",
              "      <th>gearbox</th>\n",
              "      <th>powerPS</th>\n",
              "      <th>model</th>\n",
              "      <th>kilometer</th>\n",
              "      <th>monthOfRegistration</th>\n",
              "      <th>fuelType</th>\n",
              "      <th>brand</th>\n",
              "      <th>notRepairedDamage</th>\n",
              "      <th>dateCreated</th>\n",
              "      <th>nrOfPictures</th>\n",
              "      <th>postalCode</th>\n",
              "      <th>lastSeen</th>\n",
              "    </tr>\n",
              "  </thead>\n",
              "  <tbody>\n",
              "    <tr>\n",
              "      <th>count</th>\n",
              "      <td>371528</td>\n",
              "      <td>371528</td>\n",
              "      <td>371528</td>\n",
              "      <td>371528</td>\n",
              "      <td>3.715280e+05</td>\n",
              "      <td>371528</td>\n",
              "      <td>333659</td>\n",
              "      <td>371528.000000</td>\n",
              "      <td>351319</td>\n",
              "      <td>371528.000000</td>\n",
              "      <td>351044</td>\n",
              "      <td>371528.000000</td>\n",
              "      <td>371528.000000</td>\n",
              "      <td>338142</td>\n",
              "      <td>371528</td>\n",
              "      <td>299468</td>\n",
              "      <td>371528</td>\n",
              "      <td>371528.0</td>\n",
              "      <td>371528.00000</td>\n",
              "      <td>371528</td>\n",
              "    </tr>\n",
              "    <tr>\n",
              "      <th>unique</th>\n",
              "      <td>280500</td>\n",
              "      <td>233531</td>\n",
              "      <td>2</td>\n",
              "      <td>2</td>\n",
              "      <td>NaN</td>\n",
              "      <td>2</td>\n",
              "      <td>8</td>\n",
              "      <td>NaN</td>\n",
              "      <td>2</td>\n",
              "      <td>NaN</td>\n",
              "      <td>251</td>\n",
              "      <td>NaN</td>\n",
              "      <td>NaN</td>\n",
              "      <td>7</td>\n",
              "      <td>40</td>\n",
              "      <td>2</td>\n",
              "      <td>114</td>\n",
              "      <td>NaN</td>\n",
              "      <td>NaN</td>\n",
              "      <td>182806</td>\n",
              "    </tr>\n",
              "    <tr>\n",
              "      <th>top</th>\n",
              "      <td>2016-03-24 14:49:47</td>\n",
              "      <td>Ford_Fiesta</td>\n",
              "      <td>privat</td>\n",
              "      <td>Angebot</td>\n",
              "      <td>NaN</td>\n",
              "      <td>test</td>\n",
              "      <td>limousine</td>\n",
              "      <td>NaN</td>\n",
              "      <td>manuell</td>\n",
              "      <td>NaN</td>\n",
              "      <td>golf</td>\n",
              "      <td>NaN</td>\n",
              "      <td>NaN</td>\n",
              "      <td>benzin</td>\n",
              "      <td>volkswagen</td>\n",
              "      <td>nein</td>\n",
              "      <td>2016-04-03 00:00:00</td>\n",
              "      <td>NaN</td>\n",
              "      <td>NaN</td>\n",
              "      <td>2016-04-07 06:45:59</td>\n",
              "    </tr>\n",
              "    <tr>\n",
              "      <th>freq</th>\n",
              "      <td>7</td>\n",
              "      <td>657</td>\n",
              "      <td>371525</td>\n",
              "      <td>371516</td>\n",
              "      <td>NaN</td>\n",
              "      <td>192585</td>\n",
              "      <td>95894</td>\n",
              "      <td>NaN</td>\n",
              "      <td>274214</td>\n",
              "      <td>NaN</td>\n",
              "      <td>30070</td>\n",
              "      <td>NaN</td>\n",
              "      <td>NaN</td>\n",
              "      <td>223857</td>\n",
              "      <td>79640</td>\n",
              "      <td>263182</td>\n",
              "      <td>14450</td>\n",
              "      <td>NaN</td>\n",
              "      <td>NaN</td>\n",
              "      <td>17</td>\n",
              "    </tr>\n",
              "    <tr>\n",
              "      <th>mean</th>\n",
              "      <td>NaN</td>\n",
              "      <td>NaN</td>\n",
              "      <td>NaN</td>\n",
              "      <td>NaN</td>\n",
              "      <td>1.729514e+04</td>\n",
              "      <td>NaN</td>\n",
              "      <td>NaN</td>\n",
              "      <td>2004.577997</td>\n",
              "      <td>NaN</td>\n",
              "      <td>115.549477</td>\n",
              "      <td>NaN</td>\n",
              "      <td>125618.688228</td>\n",
              "      <td>5.734445</td>\n",
              "      <td>NaN</td>\n",
              "      <td>NaN</td>\n",
              "      <td>NaN</td>\n",
              "      <td>NaN</td>\n",
              "      <td>0.0</td>\n",
              "      <td>50820.66764</td>\n",
              "      <td>NaN</td>\n",
              "    </tr>\n",
              "    <tr>\n",
              "      <th>std</th>\n",
              "      <td>NaN</td>\n",
              "      <td>NaN</td>\n",
              "      <td>NaN</td>\n",
              "      <td>NaN</td>\n",
              "      <td>3.587954e+06</td>\n",
              "      <td>NaN</td>\n",
              "      <td>NaN</td>\n",
              "      <td>92.866598</td>\n",
              "      <td>NaN</td>\n",
              "      <td>192.139578</td>\n",
              "      <td>NaN</td>\n",
              "      <td>40112.337051</td>\n",
              "      <td>3.712412</td>\n",
              "      <td>NaN</td>\n",
              "      <td>NaN</td>\n",
              "      <td>NaN</td>\n",
              "      <td>NaN</td>\n",
              "      <td>0.0</td>\n",
              "      <td>25799.08247</td>\n",
              "      <td>NaN</td>\n",
              "    </tr>\n",
              "    <tr>\n",
              "      <th>min</th>\n",
              "      <td>NaN</td>\n",
              "      <td>NaN</td>\n",
              "      <td>NaN</td>\n",
              "      <td>NaN</td>\n",
              "      <td>0.000000e+00</td>\n",
              "      <td>NaN</td>\n",
              "      <td>NaN</td>\n",
              "      <td>1000.000000</td>\n",
              "      <td>NaN</td>\n",
              "      <td>0.000000</td>\n",
              "      <td>NaN</td>\n",
              "      <td>5000.000000</td>\n",
              "      <td>0.000000</td>\n",
              "      <td>NaN</td>\n",
              "      <td>NaN</td>\n",
              "      <td>NaN</td>\n",
              "      <td>NaN</td>\n",
              "      <td>0.0</td>\n",
              "      <td>1067.00000</td>\n",
              "      <td>NaN</td>\n",
              "    </tr>\n",
              "    <tr>\n",
              "      <th>25%</th>\n",
              "      <td>NaN</td>\n",
              "      <td>NaN</td>\n",
              "      <td>NaN</td>\n",
              "      <td>NaN</td>\n",
              "      <td>1.150000e+03</td>\n",
              "      <td>NaN</td>\n",
              "      <td>NaN</td>\n",
              "      <td>1999.000000</td>\n",
              "      <td>NaN</td>\n",
              "      <td>70.000000</td>\n",
              "      <td>NaN</td>\n",
              "      <td>125000.000000</td>\n",
              "      <td>3.000000</td>\n",
              "      <td>NaN</td>\n",
              "      <td>NaN</td>\n",
              "      <td>NaN</td>\n",
              "      <td>NaN</td>\n",
              "      <td>0.0</td>\n",
              "      <td>30459.00000</td>\n",
              "      <td>NaN</td>\n",
              "    </tr>\n",
              "    <tr>\n",
              "      <th>50%</th>\n",
              "      <td>NaN</td>\n",
              "      <td>NaN</td>\n",
              "      <td>NaN</td>\n",
              "      <td>NaN</td>\n",
              "      <td>2.950000e+03</td>\n",
              "      <td>NaN</td>\n",
              "      <td>NaN</td>\n",
              "      <td>2003.000000</td>\n",
              "      <td>NaN</td>\n",
              "      <td>105.000000</td>\n",
              "      <td>NaN</td>\n",
              "      <td>150000.000000</td>\n",
              "      <td>6.000000</td>\n",
              "      <td>NaN</td>\n",
              "      <td>NaN</td>\n",
              "      <td>NaN</td>\n",
              "      <td>NaN</td>\n",
              "      <td>0.0</td>\n",
              "      <td>49610.00000</td>\n",
              "      <td>NaN</td>\n",
              "    </tr>\n",
              "    <tr>\n",
              "      <th>75%</th>\n",
              "      <td>NaN</td>\n",
              "      <td>NaN</td>\n",
              "      <td>NaN</td>\n",
              "      <td>NaN</td>\n",
              "      <td>7.200000e+03</td>\n",
              "      <td>NaN</td>\n",
              "      <td>NaN</td>\n",
              "      <td>2008.000000</td>\n",
              "      <td>NaN</td>\n",
              "      <td>150.000000</td>\n",
              "      <td>NaN</td>\n",
              "      <td>150000.000000</td>\n",
              "      <td>9.000000</td>\n",
              "      <td>NaN</td>\n",
              "      <td>NaN</td>\n",
              "      <td>NaN</td>\n",
              "      <td>NaN</td>\n",
              "      <td>0.0</td>\n",
              "      <td>71546.00000</td>\n",
              "      <td>NaN</td>\n",
              "    </tr>\n",
              "    <tr>\n",
              "      <th>max</th>\n",
              "      <td>NaN</td>\n",
              "      <td>NaN</td>\n",
              "      <td>NaN</td>\n",
              "      <td>NaN</td>\n",
              "      <td>2.147484e+09</td>\n",
              "      <td>NaN</td>\n",
              "      <td>NaN</td>\n",
              "      <td>9999.000000</td>\n",
              "      <td>NaN</td>\n",
              "      <td>20000.000000</td>\n",
              "      <td>NaN</td>\n",
              "      <td>150000.000000</td>\n",
              "      <td>12.000000</td>\n",
              "      <td>NaN</td>\n",
              "      <td>NaN</td>\n",
              "      <td>NaN</td>\n",
              "      <td>NaN</td>\n",
              "      <td>0.0</td>\n",
              "      <td>99998.00000</td>\n",
              "      <td>NaN</td>\n",
              "    </tr>\n",
              "  </tbody>\n",
              "</table>\n",
              "</div>"
            ],
            "text/plain": [
              "                dateCrawled         name  ...    postalCode             lastSeen\n",
              "count                371528       371528  ...  371528.00000               371528\n",
              "unique               280500       233531  ...           NaN               182806\n",
              "top     2016-03-24 14:49:47  Ford_Fiesta  ...           NaN  2016-04-07 06:45:59\n",
              "freq                      7          657  ...           NaN                   17\n",
              "mean                    NaN          NaN  ...   50820.66764                  NaN\n",
              "std                     NaN          NaN  ...   25799.08247                  NaN\n",
              "min                     NaN          NaN  ...    1067.00000                  NaN\n",
              "25%                     NaN          NaN  ...   30459.00000                  NaN\n",
              "50%                     NaN          NaN  ...   49610.00000                  NaN\n",
              "75%                     NaN          NaN  ...   71546.00000                  NaN\n",
              "max                     NaN          NaN  ...   99998.00000                  NaN\n",
              "\n",
              "[11 rows x 20 columns]"
            ]
          },
          "metadata": {
            "tags": []
          },
          "execution_count": 6
        }
      ]
    },
    {
      "cell_type": "code",
      "metadata": {
        "colab": {
          "base_uri": "https://localhost:8080/"
        },
        "id": "lGC_XKWsezA5",
        "outputId": "c820e2f1-29ee-4c27-e8b6-924a4a1b934d"
      },
      "source": [
        "autos[\"seller\"].value_counts()"
      ],
      "execution_count": null,
      "outputs": [
        {
          "output_type": "execute_result",
          "data": {
            "text/plain": [
              "privat        371525\n",
              "gewerblich         3\n",
              "Name: seller, dtype: int64"
            ]
          },
          "metadata": {
            "tags": []
          },
          "execution_count": 48
        }
      ]
    },
    {
      "cell_type": "code",
      "metadata": {
        "colab": {
          "base_uri": "https://localhost:8080/"
        },
        "id": "OIvO5n_ggA2e",
        "outputId": "af1c2d17-acfa-4e7f-a605-34ac090a5dfe"
      },
      "source": [
        "autos[\"offerType\"].value_counts()"
      ],
      "execution_count": null,
      "outputs": [
        {
          "output_type": "execute_result",
          "data": {
            "text/plain": [
              "Angebot    371516\n",
              "Gesuch         12\n",
              "Name: offerType, dtype: int64"
            ]
          },
          "metadata": {
            "tags": []
          },
          "execution_count": 72
        }
      ]
    },
    {
      "cell_type": "code",
      "metadata": {
        "colab": {
          "base_uri": "https://localhost:8080/"
        },
        "id": "8QJVPFvhjIDu",
        "outputId": "2a4dc613-4631-4f17-ad12-f04a11631bf0"
      },
      "source": [
        "autos[\"nrOfPictures\"].value_counts()"
      ],
      "execution_count": null,
      "outputs": [
        {
          "output_type": "execute_result",
          "data": {
            "text/plain": [
              "0    371528\n",
              "Name: nrOfPictures, dtype: int64"
            ]
          },
          "metadata": {
            "tags": []
          },
          "execution_count": 73
        }
      ]
    },
    {
      "cell_type": "code",
      "metadata": {
        "colab": {
          "base_uri": "https://localhost:8080/"
        },
        "id": "l5HCz659ct13",
        "outputId": "ad3b0da9-6d1e-4532-99fe-9b11649e10d4"
      },
      "source": [
        "autos[\"vehicleType\"].iloc[0:22]"
      ],
      "execution_count": null,
      "outputs": [
        {
          "output_type": "execute_result",
          "data": {
            "text/plain": [
              "0            NaN\n",
              "1          coupe\n",
              "2            suv\n",
              "3     kleinwagen\n",
              "4     kleinwagen\n",
              "5      limousine\n",
              "6         cabrio\n",
              "7      limousine\n",
              "8            bus\n",
              "9     kleinwagen\n",
              "10     limousine\n",
              "11         kombi\n",
              "12         kombi\n",
              "13         kombi\n",
              "14           suv\n",
              "15    kleinwagen\n",
              "16           NaN\n",
              "17    kleinwagen\n",
              "18           bus\n",
              "19           bus\n",
              "20         coupe\n",
              "21     limousine\n",
              "Name: vehicleType, dtype: object"
            ]
          },
          "metadata": {
            "tags": []
          },
          "execution_count": 39
        }
      ]
    },
    {
      "cell_type": "code",
      "metadata": {
        "colab": {
          "base_uri": "https://localhost:8080/"
        },
        "id": "-rl8RREhbuXK",
        "outputId": "f5591684-dcfe-4ec3-e5ae-ddd4f43c70d7"
      },
      "source": [
        "autos['gearbox'].value_counts()"
      ],
      "execution_count": null,
      "outputs": [
        {
          "output_type": "execute_result",
          "data": {
            "text/plain": [
              "manuell      274214\n",
              "automatik     77105\n",
              "Name: gearbox, dtype: int64"
            ]
          },
          "metadata": {
            "tags": []
          },
          "execution_count": 31
        }
      ]
    },
    {
      "cell_type": "code",
      "metadata": {
        "colab": {
          "base_uri": "https://localhost:8080/"
        },
        "id": "siVWz0RfcGRB",
        "outputId": "0641933f-f3da-44c9-9daf-fbf0869f6988"
      },
      "source": [
        "autos['brand'].value_counts()"
      ],
      "execution_count": null,
      "outputs": [
        {
          "output_type": "execute_result",
          "data": {
            "text/plain": [
              "volkswagen        79640\n",
              "bmw               40274\n",
              "opel              40136\n",
              "mercedes_benz     35309\n",
              "audi              32873\n",
              "ford              25573\n",
              "renault           17969\n",
              "peugeot           11027\n",
              "fiat               9676\n",
              "seat               7022\n",
              "mazda              5695\n",
              "skoda              5641\n",
              "smart              5249\n",
              "citroen            5182\n",
              "nissan             5037\n",
              "toyota             4694\n",
              "sonstige_autos     3982\n",
              "hyundai            3646\n",
              "mini               3394\n",
              "volvo              3327\n",
              "mitsubishi         3061\n",
              "honda              2836\n",
              "kia                2555\n",
              "alfa_romeo         2345\n",
              "suzuki             2328\n",
              "porsche            2215\n",
              "chevrolet          1845\n",
              "chrysler           1452\n",
              "dacia               900\n",
              "jeep                807\n",
              "daihatsu            806\n",
              "subaru              779\n",
              "land_rover          770\n",
              "jaguar              621\n",
              "trabant             591\n",
              "daewoo              542\n",
              "saab                530\n",
              "rover               490\n",
              "lancia              484\n",
              "lada                225\n",
              "Name: brand, dtype: int64"
            ]
          },
          "metadata": {
            "tags": []
          },
          "execution_count": 32
        }
      ]
    },
    {
      "cell_type": "markdown",
      "metadata": {
        "id": "XSOgPlgLWZzb"
      },
      "source": [
        "# Stage 1 Cleaning\n",
        "The following steps will be done in the cleaning processes:\n",
        "1. Rename columns - DataFrame.columns\n",
        "2. Dropping useless columns\n",
        "\n"
      ]
    },
    {
      "cell_type": "markdown",
      "metadata": {
        "id": "R_nFGcseWydF"
      },
      "source": [
        "## 1. Rename Columns\n",
        "The columns use CamelCase sometimes and are generally hard to read."
      ]
    },
    {
      "cell_type": "code",
      "metadata": {
        "colab": {
          "base_uri": "https://localhost:8080/"
        },
        "id": "yLh2wPCSW29Y",
        "outputId": "ab45ebc4-5dbd-4c25-d56e-2e39b3bfc91d"
      },
      "source": [
        "# Copy used to ensure we have a copy of the old columns for reference if needed.\n",
        "columns_old = autos.columns.copy()\n",
        "print(columns_old)"
      ],
      "execution_count": 3,
      "outputs": [
        {
          "output_type": "stream",
          "text": [
            "Index(['dateCrawled', 'name', 'seller', 'offerType', 'price', 'abtest',\n",
            "       'vehicleType', 'yearOfRegistration', 'gearbox', 'powerPS', 'model',\n",
            "       'kilometer', 'monthOfRegistration', 'fuelType', 'brand',\n",
            "       'notRepairedDamage', 'dateCreated', 'nrOfPictures', 'postalCode',\n",
            "       'lastSeen'],\n",
            "      dtype='object')\n"
          ],
          "name": "stdout"
        }
      ]
    },
    {
      "cell_type": "code",
      "metadata": {
        "id": "cVHTRbANW7DU"
      },
      "source": [
        "\n",
        "columns_new = ['date_crawled', # to snake_case\n",
        "'name', # no change\n",
        "'seller', # no change\n",
        "'offer_type', # to snake_case\n",
        "'price', # no change\n",
        "'ab_test', # to snake_case\n",
        "'vehicle_type', # to snake_case\n",
        "'registration_year', # clarity\n",
        "'gearbox', # no change\n",
        "'power_ps', # to snake_case\n",
        "'model', # no change\n",
        "'odometer_km', # more accurate\n",
        "'registration_month', #clarity\n",
        "'fuel_type', # to snake_case\n",
        "'brand', # no change\n",
        "'unrepaired_damage', # clarity\n",
        "'ad_created', # to snake_case\n",
        "'num_pictures', # clarity and to snake_case\n",
        "'postcode', # common usage\n",
        "'last_seen'] # to snake_case\n",
        "\n",
        "# Copy back (rather than assignment) to preserve versions\n",
        "autos.columns = columns_new.copy()"
      ],
      "execution_count": 4,
      "outputs": []
    },
    {
      "cell_type": "code",
      "metadata": {
        "colab": {
          "base_uri": "https://localhost:8080/"
        },
        "id": "MqaNLldUYsaY",
        "outputId": "e9fa7f7e-976f-4d96-8ac1-5b8748a5cc16"
      },
      "source": [
        "autos.columns"
      ],
      "execution_count": 5,
      "outputs": [
        {
          "output_type": "execute_result",
          "data": {
            "text/plain": [
              "Index(['date_crawled', 'name', 'seller', 'offer_type', 'price', 'ab_test',\n",
              "       'vehicle_type', 'registration_year', 'gearbox', 'power_ps', 'model',\n",
              "       'odometer_km', 'registration_month', 'fuel_type', 'brand',\n",
              "       'unrepaired_damage', 'ad_created', 'num_pictures', 'postcode',\n",
              "       'last_seen'],\n",
              "      dtype='object')"
            ]
          },
          "metadata": {
            "tags": []
          },
          "execution_count": 5
        }
      ]
    },
    {
      "cell_type": "markdown",
      "metadata": {
        "id": "aGDnhT5GcP0r"
      },
      "source": [
        "## 2. Dropping Useless Columns\n",
        "\"num_pictures\", \"seller\" and \"offer_type\" should be dropped.\n"
      ]
    },
    {
      "cell_type": "code",
      "metadata": {
        "id": "NsJ1NT3qkyIm"
      },
      "source": [
        "autos = autos.drop(columns=[\"num_pictures\", \"seller\", \"offer_type\"], axis=1)"
      ],
      "execution_count": 6,
      "outputs": []
    },
    {
      "cell_type": "code",
      "metadata": {
        "colab": {
          "base_uri": "https://localhost:8080/"
        },
        "id": "51to9ZUGlr4a",
        "outputId": "7b6b00ac-313d-41f3-f617-54f6347d35b6"
      },
      "source": [
        "autos.columns"
      ],
      "execution_count": 7,
      "outputs": [
        {
          "output_type": "execute_result",
          "data": {
            "text/plain": [
              "Index(['date_crawled', 'name', 'price', 'ab_test', 'vehicle_type',\n",
              "       'registration_year', 'gearbox', 'power_ps', 'model', 'odometer_km',\n",
              "       'registration_month', 'fuel_type', 'brand', 'unrepaired_damage',\n",
              "       'ad_created', 'postcode', 'last_seen'],\n",
              "      dtype='object')"
            ]
          },
          "metadata": {
            "tags": []
          },
          "execution_count": 7
        }
      ]
    },
    {
      "cell_type": "markdown",
      "metadata": {
        "id": "y_6NcytCqMct"
      },
      "source": [
        "# Stage 2 Cleaning\n",
        "\n",
        "### Outliers\n",
        "There are outliers in these columns which need removing:\n",
        "- \"registration_year\"\n",
        "- \"price\"\n",
        "\n",
        "### Techniques\n",
        "- Series.unique().shape\n",
        "- Series.describe()\n",
        "- Series.value_counts().head()\n",
        "- Series.value_counts().sort_index()\n",
        "- Boolean: df[df[\"col\"].between(x,y)]\n"
      ]
    },
    {
      "cell_type": "markdown",
      "metadata": {
        "id": "jiB581zNGbAS"
      },
      "source": [
        "### \"registration_year\""
      ]
    },
    {
      "cell_type": "code",
      "metadata": {
        "colab": {
          "base_uri": "https://localhost:8080/"
        },
        "id": "TOsoWnFzuqYF",
        "outputId": "4e0cdc02-3845-4bf7-c6aa-016770dc4156"
      },
      "source": [
        "autos[\"registration_year\"].describe()"
      ],
      "execution_count": null,
      "outputs": [
        {
          "output_type": "execute_result",
          "data": {
            "text/plain": [
              "count    371528.000000\n",
              "mean       2004.577997\n",
              "std          92.866598\n",
              "min        1000.000000\n",
              "25%        1999.000000\n",
              "50%        2003.000000\n",
              "75%        2008.000000\n",
              "max        9999.000000\n",
              "Name: registration_year, dtype: float64"
            ]
          },
          "metadata": {
            "tags": []
          },
          "execution_count": 10
        }
      ]
    },
    {
      "cell_type": "markdown",
      "metadata": {
        "id": "hY6EQvrKFvlS"
      },
      "source": [
        "Confirm there are years well out of range."
      ]
    },
    {
      "cell_type": "code",
      "metadata": {
        "colab": {
          "base_uri": "https://localhost:8080/"
        },
        "id": "kSelSEPoxw9j",
        "outputId": "c7647627-c1a7-4650-d606-ed99b2c731b1"
      },
      "source": [
        "autos[\"registration_year\"].value_counts().head()"
      ],
      "execution_count": null,
      "outputs": [
        {
          "output_type": "execute_result",
          "data": {
            "text/plain": [
              "2000    24551\n",
              "1999    22767\n",
              "2005    22316\n",
              "2006    20230\n",
              "2001    20218\n",
              "Name: registration_year, dtype: int64"
            ]
          },
          "metadata": {
            "tags": []
          },
          "execution_count": 11
        }
      ]
    },
    {
      "cell_type": "markdown",
      "metadata": {
        "id": "jWiiqr3lwlS4"
      },
      "source": [
        "Confirm our desired values are the dominant values."
      ]
    },
    {
      "cell_type": "code",
      "metadata": {
        "colab": {
          "base_uri": "https://localhost:8080/",
          "height": 282
        },
        "id": "QUsGOmgQyCUh",
        "outputId": "2e94e761-8363-47ac-d9a4-5faf75ea6dbd"
      },
      "source": [
        "# initial_year_distribution = autos[\"registration_year\"].value_counts().sort_index()\n",
        "# initial_year_distribution.plot()"
      ],
      "execution_count": null,
      "outputs": [
        {
          "output_type": "execute_result",
          "data": {
            "text/plain": [
              "<matplotlib.axes._subplots.AxesSubplot at 0x7f62051ab1d0>"
            ]
          },
          "metadata": {
            "tags": []
          },
          "execution_count": 12
        },
        {
          "output_type": "display_data",
          "data": {
            "image/png": "[encoded data removed]",
            "text/plain": [
              "<Figure size 432x288 with 1 Axes>"
            ]
          },
          "metadata": {
            "tags": [],
            "needs_background": "light"
          }
        }
      ]
    },
    {
      "cell_type": "markdown",
      "metadata": {
        "id": "ScIJ629PGEG3"
      },
      "source": [
        "Plot the initial distribution which we will fit to the normal curve."
      ]
    },
    {
      "cell_type": "code",
      "metadata": {
        "colab": {
          "base_uri": "https://localhost:8080/",
          "height": 282
        },
        "id": "TJdamkukAzPZ",
        "outputId": "915629a2-446d-46e2-8b71-5521c238c92e"
      },
      "source": [
        "range_bool = autos[\"registration_year\"].between(1980,2020)\n",
        "final_distribution = autos[range_bool]\n",
        "final_distribution[\"registration_year\"].value_counts().sort_index().plot()"
      ],
      "execution_count": 8,
      "outputs": [
        {
          "output_type": "execute_result",
          "data": {
            "text/plain": [
              "<matplotlib.axes._subplots.AxesSubplot at 0x7f88d0e2c390>"
            ]
          },
          "metadata": {
            "tags": []
          },
          "execution_count": 8
        },
        {
          "output_type": "display_data",
          "data": {
            "image/png": "[encoded data removed]",
            "text/plain": [
              "<Figure size 432x288 with 1 Axes>"
            ]
          },
          "metadata": {
            "tags": [],
            "needs_background": "light"
          }
        }
      ]
    },
    {
      "cell_type": "markdown",
      "metadata": {
        "id": "Y9fzm4X7GKI3"
      },
      "source": [
        "Cars aged between 1980 and 2021 create an appropriate bell curve distribution with a few interesting features."
      ]
    },
    {
      "cell_type": "code",
      "metadata": {
        "id": "RbjTp4DNFc9i"
      },
      "source": [
        "autos[\"registration_year\"] = final_distribution[\"registration_year\"]"
      ],
      "execution_count": 9,
      "outputs": []
    },
    {
      "cell_type": "markdown",
      "metadata": {
        "id": "t3D-bw-qFp1l"
      },
      "source": [
        "Finally, write the new distribution back to the main dataset."
      ]
    },
    {
      "cell_type": "markdown",
      "metadata": {
        "id": "S6Or5IjGGhYX"
      },
      "source": [
        "### \"price\""
      ]
    },
    {
      "cell_type": "code",
      "metadata": {
        "colab": {
          "base_uri": "https://localhost:8080/"
        },
        "id": "OjlkqbJ2Gi2g",
        "outputId": "cfcbfc0b-f7cc-4cdd-cb7d-19a00ccb15f4"
      },
      "source": [
        "autos[\"price\"].describe()"
      ],
      "execution_count": null,
      "outputs": [
        {
          "output_type": "execute_result",
          "data": {
            "text/plain": [
              "count    3.715280e+05\n",
              "mean     1.729514e+04\n",
              "std      3.587954e+06\n",
              "min      0.000000e+00\n",
              "25%      1.150000e+03\n",
              "50%      2.950000e+03\n",
              "75%      7.200000e+03\n",
              "max      2.147484e+09\n",
              "Name: price, dtype: float64"
            ]
          },
          "metadata": {
            "tags": []
          },
          "execution_count": 14
        }
      ]
    },
    {
      "cell_type": "markdown",
      "metadata": {
        "id": "7x1USeO6Gp2G"
      },
      "source": [
        "Confirm max and min values are outliers."
      ]
    },
    {
      "cell_type": "code",
      "metadata": {
        "colab": {
          "base_uri": "https://localhost:8080/",
          "height": 295
        },
        "id": "M2CsZA-UH2hi",
        "outputId": "f217750c-86ac-4dd9-bb28-5938c0de147c"
      },
      "source": [
        "autos[\"price\"].value_counts().sort_index().plot()"
      ],
      "execution_count": null,
      "outputs": [
        {
          "output_type": "execute_result",
          "data": {
            "text/plain": [
              "<matplotlib.axes._subplots.AxesSubplot at 0x7f62041b4410>"
            ]
          },
          "metadata": {
            "tags": []
          },
          "execution_count": 15
        },
        {
          "output_type": "display_data",
          "data": {
            "image/png": "[encoded data removed]",
            "text/plain": [
              "<Figure size 432x288 with 1 Axes>"
            ]
          },
          "metadata": {
            "tags": [],
            "needs_background": "light"
          }
        }
      ]
    },
    {
      "cell_type": "markdown",
      "metadata": {
        "id": "72A9XBYmIMWb"
      },
      "source": [
        "Plot the initial distribution we will crop to fit a normal distribution."
      ]
    },
    {
      "cell_type": "code",
      "metadata": {
        "colab": {
          "base_uri": "https://localhost:8080/",
          "height": 282
        },
        "id": "8FPgjdpQIZZw",
        "outputId": "49b0cfea-1dac-4cc2-ead4-e8ab82f30dd1"
      },
      "source": [
        "price_bool = autos[\"price\"].between(1,45000)\n",
        "final_price_distribution = autos[price_bool]\n",
        "final_price_distribution[\"price\"].value_counts().sort_index().plot()"
      ],
      "execution_count": 10,
      "outputs": [
        {
          "output_type": "execute_result",
          "data": {
            "text/plain": [
              "<matplotlib.axes._subplots.AxesSubplot at 0x7f88d0d94e50>"
            ]
          },
          "metadata": {
            "tags": []
          },
          "execution_count": 10
        },
        {
          "output_type": "display_data",
          "data": {
            "image/png": "[encoded data removed]",
            "text/plain": [
              "<Figure size 432x288 with 1 Axes>"
            ]
          },
          "metadata": {
            "tags": [],
            "needs_background": "light"
          }
        }
      ]
    },
    {
      "cell_type": "markdown",
      "metadata": {
        "id": "NNvxgG1SBo-J"
      },
      "source": [
        "Not sure this isn't charting properly."
      ]
    },
    {
      "cell_type": "code",
      "metadata": {
        "id": "Euuaoy9ZBs-5"
      },
      "source": [
        "autos[\"price\"] = final_price_distribution[\"price\"]"
      ],
      "execution_count": 11,
      "outputs": []
    },
    {
      "cell_type": "markdown",
      "metadata": {
        "id": "zBjkHVidB74K"
      },
      "source": [
        "Write the new slice anyway"
      ]
    },
    {
      "cell_type": "code",
      "metadata": {
        "colab": {
          "base_uri": "https://localhost:8080/"
        },
        "id": "58xAVIdQCFLY",
        "outputId": "9a271a06-6b1a-433b-d462-f4e29ebe603c"
      },
      "source": [
        "autos[\"price\"].describe()"
      ],
      "execution_count": 13,
      "outputs": [
        {
          "output_type": "execute_result",
          "data": {
            "text/plain": [
              "count    358711.000000\n",
              "mean       5522.694004\n",
              "std        6506.381772\n",
              "min           1.000000\n",
              "25%        1250.000000\n",
              "50%        3000.000000\n",
              "75%        7300.000000\n",
              "max       45000.000000\n",
              "Name: price, dtype: float64"
            ]
          },
          "metadata": {
            "tags": []
          },
          "execution_count": 13
        }
      ]
    },
    {
      "cell_type": "markdown",
      "metadata": {
        "id": "XlQzmV56CoP_"
      },
      "source": [
        "Confirm we have a good distribution even if we can't chart it properly."
      ]
    },
    {
      "cell_type": "markdown",
      "metadata": {
        "id": "snb-HoJ2DFoO"
      },
      "source": [
        "# Stage 3 Cleaning\n",
        "\n",
        "## Date Columns\n",
        "There are 5 columns that should represent date values. Some of these columns were created by the crawler, some came from the website itself. We can differentiate by referring to the data dictionary:\n",
        "\n",
        "- `date_crawled`: added by the crawler : string\n",
        "- `last_seen`: added by the crawler : string\n",
        "- `ad_created`: from the website : string\n",
        "- `registration_month`: from the website : int64\n",
        "- `registration_year`: from the website : float\n"
      ]
    },
    {
      "cell_type": "code",
      "metadata": {
        "colab": {
          "base_uri": "https://localhost:8080/"
        },
        "id": "CC-c1rsFDp5d",
        "outputId": "717197dd-1194-4036-c483-113e962960a1"
      },
      "source": [
        "print(autos[\"date_crawled\"].dtypes)\n",
        "print(autos[\"last_seen\"].dtypes)\n",
        "print(autos[\"ad_created\"].dtypes)\n",
        "print(autos[\"registration_month\"].dtypes)\n",
        "print(autos[\"registration_year\"].dtypes)"
      ],
      "execution_count": null,
      "outputs": [
        {
          "output_type": "stream",
          "text": [
            "object\n",
            "object\n",
            "object\n",
            "int64\n",
            "float64\n"
          ],
          "name": "stdout"
        }
      ]
    },
    {
      "cell_type": "code",
      "metadata": {
        "colab": {
          "base_uri": "https://localhost:8080/",
          "height": 204
        },
        "id": "fIVo0m0REBvd",
        "outputId": "509515bb-b480-40d6-b9b2-35c83266cab6"
      },
      "source": [
        "autos[['date_crawled','ad_created','last_seen']][0:5]"
      ],
      "execution_count": null,
      "outputs": [
        {
          "output_type": "execute_result",
          "data": {
            "text/html": [
              "<div>\n",
              "<style scoped>\n",
              "    .dataframe tbody tr th:only-of-type {\n",
              "        vertical-align: middle;\n",
              "    }\n",
              "\n",
              "    .dataframe tbody tr th {\n",
              "        vertical-align: top;\n",
              "    }\n",
              "\n",
              "    .dataframe thead th {\n",
              "        text-align: right;\n",
              "    }\n",
              "</style>\n",
              "<table border=\"1\" class=\"dataframe\">\n",
              "  <thead>\n",
              "    <tr style=\"text-align: right;\">\n",
              "      <th></th>\n",
              "      <th>date_crawled</th>\n",
              "      <th>ad_created</th>\n",
              "      <th>last_seen</th>\n",
              "    </tr>\n",
              "  </thead>\n",
              "  <tbody>\n",
              "    <tr>\n",
              "      <th>0</th>\n",
              "      <td>2016-03-24 11:52:17</td>\n",
              "      <td>2016-03-24 00:00:00</td>\n",
              "      <td>2016-04-07 03:16:57</td>\n",
              "    </tr>\n",
              "    <tr>\n",
              "      <th>1</th>\n",
              "      <td>2016-03-24 10:58:45</td>\n",
              "      <td>2016-03-24 00:00:00</td>\n",
              "      <td>2016-04-07 01:46:50</td>\n",
              "    </tr>\n",
              "    <tr>\n",
              "      <th>2</th>\n",
              "      <td>2016-03-14 12:52:21</td>\n",
              "      <td>2016-03-14 00:00:00</td>\n",
              "      <td>2016-04-05 12:47:46</td>\n",
              "    </tr>\n",
              "    <tr>\n",
              "      <th>3</th>\n",
              "      <td>2016-03-17 16:54:04</td>\n",
              "      <td>2016-03-17 00:00:00</td>\n",
              "      <td>2016-03-17 17:40:17</td>\n",
              "    </tr>\n",
              "    <tr>\n",
              "      <th>4</th>\n",
              "      <td>2016-03-31 17:25:20</td>\n",
              "      <td>2016-03-31 00:00:00</td>\n",
              "      <td>2016-04-06 10:17:21</td>\n",
              "    </tr>\n",
              "  </tbody>\n",
              "</table>\n",
              "</div>"
            ],
            "text/plain": [
              "          date_crawled           ad_created            last_seen\n",
              "0  2016-03-24 11:52:17  2016-03-24 00:00:00  2016-04-07 03:16:57\n",
              "1  2016-03-24 10:58:45  2016-03-24 00:00:00  2016-04-07 01:46:50\n",
              "2  2016-03-14 12:52:21  2016-03-14 00:00:00  2016-04-05 12:47:46\n",
              "3  2016-03-17 16:54:04  2016-03-17 00:00:00  2016-03-17 17:40:17\n",
              "4  2016-03-31 17:25:20  2016-03-31 00:00:00  2016-04-06 10:17:21"
            ]
          },
          "metadata": {
            "tags": []
          },
          "execution_count": 32
        }
      ]
    },
    {
      "cell_type": "markdown",
      "metadata": {
        "id": "5fQ3KvETJ3rs"
      },
      "source": [
        "### \"date_crawled\""
      ]
    },
    {
      "cell_type": "code",
      "metadata": {
        "colab": {
          "base_uri": "https://localhost:8080/"
        },
        "id": "WvyHBescEL-E",
        "outputId": "209f52a9-2075-4859-b30b-b3683abbade8"
      },
      "source": [
        "print(autos['date_crawled'].str[:10].value_counts(dropna=False).sort_index())"
      ],
      "execution_count": null,
      "outputs": [
        {
          "output_type": "stream",
          "text": [
            "2016-03-05     9493\n",
            "2016-03-06     5373\n",
            "2016-03-07    13260\n",
            "2016-03-08    12429\n",
            "2016-03-09    12710\n",
            "2016-03-10    12098\n",
            "2016-03-11    12159\n",
            "2016-03-12    13447\n",
            "2016-03-13     5846\n",
            "2016-03-14    13477\n",
            "2016-03-15    12428\n",
            "2016-03-16    11201\n",
            "2016-03-17    11763\n",
            "2016-03-18     4877\n",
            "2016-03-19    13112\n",
            "2016-03-20    13506\n",
            "2016-03-21    13278\n",
            "2016-03-22    12063\n",
            "2016-03-23    11878\n",
            "2016-03-24    11113\n",
            "2016-03-25    12236\n",
            "2016-03-26    11876\n",
            "2016-03-27    11248\n",
            "2016-03-28    13045\n",
            "2016-03-29    12695\n",
            "2016-03-30    12457\n",
            "2016-03-31    11846\n",
            "2016-04-01    12675\n",
            "2016-04-02    13033\n",
            "2016-04-03    14391\n",
            "2016-04-04    13974\n",
            "2016-04-05     4764\n",
            "2016-04-06     1175\n",
            "2016-04-07      602\n",
            "Name: date_crawled, dtype: int64\n"
          ],
          "name": "stdout"
        }
      ]
    },
    {
      "cell_type": "markdown",
      "metadata": {
        "id": "B96Bymt0H9RN"
      },
      "source": [
        "It is clear the crawl had quite a tight date range of 30 days.\n",
        "\n",
        "Should cast as datetime."
      ]
    },
    {
      "cell_type": "code",
      "metadata": {
        "colab": {
          "base_uri": "https://localhost:8080/"
        },
        "id": "ZXl--kqGKBfD",
        "outputId": "eb166d42-2de5-455a-e963-f079abc5b848"
      },
      "source": [
        "autos['date_crawled'] = pd.to_datetime(autos['date_crawled'])\n",
        "print(autos[\"date_crawled\"].dtype)"
      ],
      "execution_count": 14,
      "outputs": [
        {
          "output_type": "stream",
          "text": [
            "datetime64[ns]\n"
          ],
          "name": "stdout"
        }
      ]
    },
    {
      "cell_type": "markdown",
      "metadata": {
        "id": "Mw6Tni6I_WF5"
      },
      "source": [
        "### \"ad_created\""
      ]
    },
    {
      "cell_type": "code",
      "metadata": {
        "colab": {
          "base_uri": "https://localhost:8080/"
        },
        "id": "ztwFJjoqEm31",
        "outputId": "6626881e-8770-4f66-e1cf-0eebcaf6aa37"
      },
      "source": [
        "print(autos['ad_created'].str[:10].value_counts(dropna=False).sort_index())"
      ],
      "execution_count": null,
      "outputs": [
        {
          "output_type": "stream",
          "text": [
            "2014-03-10        1\n",
            "2015-03-20        1\n",
            "2015-06-11        1\n",
            "2015-06-18        1\n",
            "2015-08-07        1\n",
            "              ...  \n",
            "2016-04-03    14450\n",
            "2016-04-04    14022\n",
            "2016-04-05     4330\n",
            "2016-04-06     1172\n",
            "2016-04-07      579\n",
            "Name: ad_created, Length: 114, dtype: int64\n"
          ],
          "name": "stdout"
        }
      ]
    },
    {
      "cell_type": "markdown",
      "metadata": {
        "id": "jPRYrTw6Fu-i"
      },
      "source": [
        "\"ad_created\" has values outside the range of \"date_crawled\".\n",
        "\n",
        "Investigate if these rows are valid."
      ]
    },
    {
      "cell_type": "code",
      "metadata": {
        "colab": {
          "base_uri": "https://localhost:8080/",
          "height": 394
        },
        "id": "wxa59ixAGAqM",
        "outputId": "8a5e953f-d42b-4ae9-f7c4-c195630106e5"
      },
      "source": [
        "bool_2015 = autos[\"ad_created\"].str[:4] == \"2015\"\n",
        "slice_2015 = autos[bool_2015]\n",
        "slice_2015.head()"
      ],
      "execution_count": null,
      "outputs": [
        {
          "output_type": "execute_result",
          "data": {
            "text/html": [
              "<div>\n",
              "<style scoped>\n",
              "    .dataframe tbody tr th:only-of-type {\n",
              "        vertical-align: middle;\n",
              "    }\n",
              "\n",
              "    .dataframe tbody tr th {\n",
              "        vertical-align: top;\n",
              "    }\n",
              "\n",
              "    .dataframe thead th {\n",
              "        text-align: right;\n",
              "    }\n",
              "</style>\n",
              "<table border=\"1\" class=\"dataframe\">\n",
              "  <thead>\n",
              "    <tr style=\"text-align: right;\">\n",
              "      <th></th>\n",
              "      <th>date_crawled</th>\n",
              "      <th>name</th>\n",
              "      <th>price</th>\n",
              "      <th>ab_test</th>\n",
              "      <th>vehicle_type</th>\n",
              "      <th>registration_year</th>\n",
              "      <th>gearbox</th>\n",
              "      <th>power_ps</th>\n",
              "      <th>model</th>\n",
              "      <th>odometer_km</th>\n",
              "      <th>registration_month</th>\n",
              "      <th>fuel_type</th>\n",
              "      <th>brand</th>\n",
              "      <th>unrepaired_damage</th>\n",
              "      <th>ad_created</th>\n",
              "      <th>postcode</th>\n",
              "      <th>last_seen</th>\n",
              "    </tr>\n",
              "  </thead>\n",
              "  <tbody>\n",
              "    <tr>\n",
              "      <th>4192</th>\n",
              "      <td>2016-03-23 14:42:46</td>\n",
              "      <td>Der_VAN_ist_zu_OSTERN_reisefertig</td>\n",
              "      <td>6000.0</td>\n",
              "      <td>test</td>\n",
              "      <td>bus</td>\n",
              "      <td>1995.0</td>\n",
              "      <td>automatik</td>\n",
              "      <td>200</td>\n",
              "      <td>andere</td>\n",
              "      <td>150000</td>\n",
              "      <td>0</td>\n",
              "      <td>benzin</td>\n",
              "      <td>chevrolet</td>\n",
              "      <td>nein</td>\n",
              "      <td>2015-03-20 00:00:00</td>\n",
              "      <td>24558</td>\n",
              "      <td>2016-04-07 03:45:01</td>\n",
              "    </tr>\n",
              "    <tr>\n",
              "      <th>5310</th>\n",
              "      <td>2016-03-23 01:48:59</td>\n",
              "      <td>Mercedes_Benz_C220_BT__7G_Tronic_AMG__Modellja...</td>\n",
              "      <td>NaN</td>\n",
              "      <td>test</td>\n",
              "      <td>limousine</td>\n",
              "      <td>2014.0</td>\n",
              "      <td>automatik</td>\n",
              "      <td>0</td>\n",
              "      <td>c_klasse</td>\n",
              "      <td>20000</td>\n",
              "      <td>2</td>\n",
              "      <td>diesel</td>\n",
              "      <td>mercedes_benz</td>\n",
              "      <td>NaN</td>\n",
              "      <td>2015-06-11 00:00:00</td>\n",
              "      <td>46145</td>\n",
              "      <td>2016-04-06 09:47:02</td>\n",
              "    </tr>\n",
              "    <tr>\n",
              "      <th>10471</th>\n",
              "      <td>2016-03-05 17:53:53</td>\n",
              "      <td>RENAULT_CLIO_1.6_EDITION_DYNAMIQUE</td>\n",
              "      <td>3490.0</td>\n",
              "      <td>test</td>\n",
              "      <td>limousine</td>\n",
              "      <td>2006.0</td>\n",
              "      <td>manuell</td>\n",
              "      <td>88</td>\n",
              "      <td>clio</td>\n",
              "      <td>150000</td>\n",
              "      <td>3</td>\n",
              "      <td>benzin</td>\n",
              "      <td>renault</td>\n",
              "      <td>nein</td>\n",
              "      <td>2015-11-02 00:00:00</td>\n",
              "      <td>40880</td>\n",
              "      <td>2016-03-17 15:46:57</td>\n",
              "    </tr>\n",
              "    <tr>\n",
              "      <th>31127</th>\n",
              "      <td>2016-03-28 13:31:25</td>\n",
              "      <td>Audi_A_3_Ambition</td>\n",
              "      <td>6950.0</td>\n",
              "      <td>test</td>\n",
              "      <td>limousine</td>\n",
              "      <td>2004.0</td>\n",
              "      <td>automatik</td>\n",
              "      <td>150</td>\n",
              "      <td>a3</td>\n",
              "      <td>100000</td>\n",
              "      <td>1</td>\n",
              "      <td>benzin</td>\n",
              "      <td>audi</td>\n",
              "      <td>nein</td>\n",
              "      <td>2015-12-06 00:00:00</td>\n",
              "      <td>61389</td>\n",
              "      <td>2016-04-06 14:16:09</td>\n",
              "    </tr>\n",
              "    <tr>\n",
              "      <th>63113</th>\n",
              "      <td>2016-03-05 20:42:38</td>\n",
              "      <td>W202_C280_V6__schmidt_felgen__amg__ATP_sport__...</td>\n",
              "      <td>5999.0</td>\n",
              "      <td>control</td>\n",
              "      <td>limousine</td>\n",
              "      <td>1997.0</td>\n",
              "      <td>automatik</td>\n",
              "      <td>197</td>\n",
              "      <td>c_klasse</td>\n",
              "      <td>150000</td>\n",
              "      <td>9</td>\n",
              "      <td>benzin</td>\n",
              "      <td>mercedes_benz</td>\n",
              "      <td>nein</td>\n",
              "      <td>2015-11-17 00:00:00</td>\n",
              "      <td>28816</td>\n",
              "      <td>2016-04-06 05:46:03</td>\n",
              "    </tr>\n",
              "  </tbody>\n",
              "</table>\n",
              "</div>"
            ],
            "text/plain": [
              "              date_crawled  ...            last_seen\n",
              "4192   2016-03-23 14:42:46  ...  2016-04-07 03:45:01\n",
              "5310   2016-03-23 01:48:59  ...  2016-04-06 09:47:02\n",
              "10471  2016-03-05 17:53:53  ...  2016-03-17 15:46:57\n",
              "31127  2016-03-28 13:31:25  ...  2016-04-06 14:16:09\n",
              "63113  2016-03-05 20:42:38  ...  2016-04-06 05:46:03\n",
              "\n",
              "[5 rows x 17 columns]"
            ]
          },
          "metadata": {
            "tags": []
          },
          "execution_count": 70
        }
      ]
    },
    {
      "cell_type": "markdown",
      "metadata": {
        "id": "03H5_Gz_HzZX"
      },
      "source": [
        "Appears to be adverts which have taken a long time to see and have valid rows in the set.\n",
        "\n",
        "Cast as datetime."
      ]
    },
    {
      "cell_type": "code",
      "metadata": {
        "colab": {
          "base_uri": "https://localhost:8080/"
        },
        "id": "8pQVrbDt_em5",
        "outputId": "8281236d-0cc3-4efb-f0e1-8e0b7e089ca2"
      },
      "source": [
        "autos['ad_created'] = pd.to_datetime(autos['ad_created'])\n",
        "print(autos[\"ad_created\"].dtype)"
      ],
      "execution_count": 15,
      "outputs": [
        {
          "output_type": "stream",
          "text": [
            "datetime64[ns]\n"
          ],
          "name": "stdout"
        }
      ]
    },
    {
      "cell_type": "markdown",
      "metadata": {
        "id": "Db_cHqDt_ZlR"
      },
      "source": [
        "### \"last_seen\""
      ]
    },
    {
      "cell_type": "code",
      "metadata": {
        "colab": {
          "base_uri": "https://localhost:8080/"
        },
        "id": "pnKUx-YRErpL",
        "outputId": "e32a4811-c97d-4850-e2d8-57787613e59e"
      },
      "source": [
        "print(autos['last_seen'].str[:10].value_counts(dropna=False).sort_index())"
      ],
      "execution_count": null,
      "outputs": [
        {
          "output_type": "stream",
          "text": [
            "2016-03-05      480\n",
            "2016-03-06     1536\n",
            "2016-03-07     1955\n",
            "2016-03-08     2993\n",
            "2016-03-09     3713\n",
            "2016-03-10     4296\n",
            "2016-03-11     4847\n",
            "2016-03-12     8694\n",
            "2016-03-13     3154\n",
            "2016-03-14     4570\n",
            "2016-03-15     6097\n",
            "2016-03-16     6100\n",
            "2016-03-17    10685\n",
            "2016-03-18     2575\n",
            "2016-03-19     6061\n",
            "2016-03-20     7399\n",
            "2016-03-21     7481\n",
            "2016-03-22     7656\n",
            "2016-03-23     6743\n",
            "2016-03-24     7147\n",
            "2016-03-25     7095\n",
            "2016-03-26     6004\n",
            "2016-03-27     6282\n",
            "2016-03-28     8275\n",
            "2016-03-29     8661\n",
            "2016-03-30     8863\n",
            "2016-03-31     9005\n",
            "2016-04-01     8925\n",
            "2016-04-02     9294\n",
            "2016-04-03     9424\n",
            "2016-04-04     9531\n",
            "2016-04-05    46889\n",
            "2016-04-06    80930\n",
            "2016-04-07    48168\n",
            "Name: last_seen, dtype: int64\n"
          ],
          "name": "stdout"
        }
      ]
    },
    {
      "cell_type": "markdown",
      "metadata": {
        "id": "EL9yC7jVIbU9"
      },
      "source": [
        "\"last_seen\" has exactly the same date range as \"date_crawled\" suggesting this was done as part of the crawl criteria.\n",
        "\n",
        "Cast as datetime."
      ]
    },
    {
      "cell_type": "code",
      "metadata": {
        "colab": {
          "base_uri": "https://localhost:8080/"
        },
        "id": "OfWquSmA_npx",
        "outputId": "36b94da3-cdc8-4f12-9957-1b7361e2e441"
      },
      "source": [
        "autos['last_seen'] = pd.to_datetime(autos['last_seen'])\n",
        "print(autos[\"last_seen\"].dtype)"
      ],
      "execution_count": 16,
      "outputs": [
        {
          "output_type": "stream",
          "text": [
            "datetime64[ns]\n"
          ],
          "name": "stdout"
        }
      ]
    },
    {
      "cell_type": "markdown",
      "metadata": {
        "id": "_5KXTeC7_0x3"
      },
      "source": [
        "### \"registration_month\""
      ]
    },
    {
      "cell_type": "code",
      "metadata": {
        "colab": {
          "base_uri": "https://localhost:8080/"
        },
        "id": "lxxzKOZiI2cF",
        "outputId": "1e75fe4d-882f-493b-961d-6c1c81191d97"
      },
      "source": [
        "autos[\"registration_month\"].describe()"
      ],
      "execution_count": null,
      "outputs": [
        {
          "output_type": "execute_result",
          "data": {
            "text/plain": [
              "count    371528.000000\n",
              "mean          5.734445\n",
              "std           3.712412\n",
              "min           0.000000\n",
              "25%           3.000000\n",
              "50%           6.000000\n",
              "75%           9.000000\n",
              "max          12.000000\n",
              "Name: registration_month, dtype: float64"
            ]
          },
          "metadata": {
            "tags": []
          },
          "execution_count": 72
        }
      ]
    },
    {
      "cell_type": "markdown",
      "metadata": {
        "id": "y5iHrXZ8I978"
      },
      "source": [
        "A month value of \"0\" is not very helpful.\n",
        "\n",
        "If this is the month of registration of the vehicle, it's hard to imagine any analysis would use this.\n",
        "\n",
        "Drop \"registration_month\""
      ]
    },
    {
      "cell_type": "code",
      "metadata": {
        "colab": {
          "base_uri": "https://localhost:8080/"
        },
        "id": "c8ndhsquJbec",
        "outputId": "b7fb94f9-d020-41c2-8f6a-b80bd4f37879"
      },
      "source": [
        "autos = autos.drop(columns=[\"registration_month\"], axis=1)\n",
        "autos.columns"
      ],
      "execution_count": 17,
      "outputs": [
        {
          "output_type": "execute_result",
          "data": {
            "text/plain": [
              "Index(['date_crawled', 'name', 'price', 'ab_test', 'vehicle_type',\n",
              "       'registration_year', 'gearbox', 'power_ps', 'model', 'odometer_km',\n",
              "       'fuel_type', 'brand', 'unrepaired_damage', 'ad_created', 'postcode',\n",
              "       'last_seen'],\n",
              "      dtype='object')"
            ]
          },
          "metadata": {
            "tags": []
          },
          "execution_count": 17
        }
      ]
    },
    {
      "cell_type": "markdown",
      "metadata": {
        "id": "w_Qq70k__7Ce"
      },
      "source": [
        "# \"brand\" Analysis\n",
        "\n",
        "One fruitful area of analysis will be to look at brands and see if brand correlates to sales price, frequency and period on eBay.\n",
        "\n",
        "To start, it's necessary to explore this series in more detail."
      ]
    },
    {
      "cell_type": "code",
      "metadata": {
        "colab": {
          "base_uri": "https://localhost:8080/"
        },
        "id": "p3z5JvZvBFbE",
        "outputId": "8adafdb7-1c32-4f0f-e8b2-760baedd0312"
      },
      "source": [
        "autos[\"brand\"].value_counts(dropna=False, normalize=True).head(16)"
      ],
      "execution_count": null,
      "outputs": [
        {
          "output_type": "execute_result",
          "data": {
            "text/plain": [
              "volkswagen       0.214358\n",
              "bmw              0.108401\n",
              "opel             0.108030\n",
              "mercedes_benz    0.095037\n",
              "audi             0.088481\n",
              "ford             0.068832\n",
              "renault          0.048365\n",
              "peugeot          0.029680\n",
              "fiat             0.026044\n",
              "seat             0.018900\n",
              "mazda            0.015329\n",
              "skoda            0.015183\n",
              "smart            0.014128\n",
              "citroen          0.013948\n",
              "nissan           0.013558\n",
              "toyota           0.012634\n",
              "Name: brand, dtype: float64"
            ]
          },
          "metadata": {
            "tags": []
          },
          "execution_count": 179
        }
      ]
    },
    {
      "cell_type": "markdown",
      "metadata": {
        "id": "mqPMm36dCIxz"
      },
      "source": [
        "The column series is very clean with no null values and no duplicates from spelling mistakes. Probably selected from a drop-down rather than manual entry by a user.\n",
        "\n",
        "Many of the brands are rarely sold, making up less than 1% of listings.\n",
        "\n",
        "\"sonstige_autos\" means \"other cars\" so we can eliminate that because it's vague.\n",
        "\n",
        "Therefore, we will only aggregate the top 16 most frequently listed brands.\n",
        "\n",
        "## Mean price aggregation"
      ]
    },
    {
      "cell_type": "code",
      "metadata": {
        "colab": {
          "base_uri": "https://localhost:8080/"
        },
        "id": "0B43aKhXC21p",
        "outputId": "2f883ba1-530b-4013-80a7-427f5c15ee15"
      },
      "source": [
        "mean_price_agg = {}\n",
        "\n",
        "top_16_index = autos[\"brand\"].value_counts(dropna=False, normalize=True).head(16)\n",
        "\n",
        "for brand in top_16_index.index:\n",
        "  brand_slice = autos[autos[\"brand\"] == brand]\n",
        "  agg_mean = brand_slice[\"price\"].mean()\n",
        "  mean_price_agg[brand] = round(agg_mean)\n",
        "\n",
        "print(mean_price_agg)"
      ],
      "execution_count": 32,
      "outputs": [
        {
          "output_type": "stream",
          "text": [
            "{'volkswagen': 5258, 'bmw': 8047, 'opel': 2939, 'mercedes_benz': 7894, 'audi': 8597, 'ford': 3605, 'renault': 2384, 'peugeot': 3231, 'fiat': 2853, 'seat': 4455, 'mazda': 4031, 'skoda': 6461, 'smart': 3545, 'citroen': 3694, 'nissan': 4601, 'toyota': 5212}\n"
          ],
          "name": "stdout"
        }
      ]
    },
    {
      "cell_type": "code",
      "metadata": {
        "colab": {
          "base_uri": "https://localhost:8080/",
          "height": 545
        },
        "id": "VZxgAhhaG8AU",
        "outputId": "2d3aa772-9c9e-4e0d-d61a-26040ab82af3"
      },
      "source": [
        "mean_price_series = pd.Series(mean_price_agg)\n",
        "mean_price_df = pd.DataFrame(mean_price_series, columns=[\"mean_price\"])\n",
        "mean_price_df = mean_price_df.sort_values(by=[\"mean_price\"], ascending=False)\n",
        "mean_price_df\n"
      ],
      "execution_count": 24,
      "outputs": [
        {
          "output_type": "execute_result",
          "data": {
            "text/html": [
              "<div>\n",
              "<style scoped>\n",
              "    .dataframe tbody tr th:only-of-type {\n",
              "        vertical-align: middle;\n",
              "    }\n",
              "\n",
              "    .dataframe tbody tr th {\n",
              "        vertical-align: top;\n",
              "    }\n",
              "\n",
              "    .dataframe thead th {\n",
              "        text-align: right;\n",
              "    }\n",
              "</style>\n",
              "<table border=\"1\" class=\"dataframe\">\n",
              "  <thead>\n",
              "    <tr style=\"text-align: right;\">\n",
              "      <th></th>\n",
              "      <th>mean_price</th>\n",
              "    </tr>\n",
              "  </thead>\n",
              "  <tbody>\n",
              "    <tr>\n",
              "      <th>audi</th>\n",
              "      <td>8597</td>\n",
              "    </tr>\n",
              "    <tr>\n",
              "      <th>bmw</th>\n",
              "      <td>8047</td>\n",
              "    </tr>\n",
              "    <tr>\n",
              "      <th>mercedes_benz</th>\n",
              "      <td>7894</td>\n",
              "    </tr>\n",
              "    <tr>\n",
              "      <th>skoda</th>\n",
              "      <td>6461</td>\n",
              "    </tr>\n",
              "    <tr>\n",
              "      <th>volkswagen</th>\n",
              "      <td>5258</td>\n",
              "    </tr>\n",
              "    <tr>\n",
              "      <th>toyota</th>\n",
              "      <td>5212</td>\n",
              "    </tr>\n",
              "    <tr>\n",
              "      <th>nissan</th>\n",
              "      <td>4601</td>\n",
              "    </tr>\n",
              "    <tr>\n",
              "      <th>seat</th>\n",
              "      <td>4455</td>\n",
              "    </tr>\n",
              "    <tr>\n",
              "      <th>mazda</th>\n",
              "      <td>4031</td>\n",
              "    </tr>\n",
              "    <tr>\n",
              "      <th>citroen</th>\n",
              "      <td>3694</td>\n",
              "    </tr>\n",
              "    <tr>\n",
              "      <th>ford</th>\n",
              "      <td>3605</td>\n",
              "    </tr>\n",
              "    <tr>\n",
              "      <th>smart</th>\n",
              "      <td>3545</td>\n",
              "    </tr>\n",
              "    <tr>\n",
              "      <th>peugeot</th>\n",
              "      <td>3231</td>\n",
              "    </tr>\n",
              "    <tr>\n",
              "      <th>opel</th>\n",
              "      <td>2939</td>\n",
              "    </tr>\n",
              "    <tr>\n",
              "      <th>fiat</th>\n",
              "      <td>2853</td>\n",
              "    </tr>\n",
              "    <tr>\n",
              "      <th>renault</th>\n",
              "      <td>2384</td>\n",
              "    </tr>\n",
              "  </tbody>\n",
              "</table>\n",
              "</div>"
            ],
            "text/plain": [
              "               mean_price\n",
              "audi                 8597\n",
              "bmw                  8047\n",
              "mercedes_benz        7894\n",
              "skoda                6461\n",
              "volkswagen           5258\n",
              "toyota               5212\n",
              "nissan               4601\n",
              "seat                 4455\n",
              "mazda                4031\n",
              "citroen              3694\n",
              "ford                 3605\n",
              "smart                3545\n",
              "peugeot              3231\n",
              "opel                 2939\n",
              "fiat                 2853\n",
              "renault              2384"
            ]
          },
          "metadata": {
            "tags": []
          },
          "execution_count": 24
        }
      ]
    },
    {
      "cell_type": "code",
      "metadata": {
        "colab": {
          "base_uri": "https://localhost:8080/",
          "height": 282
        },
        "id": "9mCO2xdONmkf",
        "outputId": "3963f358-0a5a-49c3-b194-b290d26b5ed8"
      },
      "source": [
        "mean_price_df.sort_values(by=[\"mean_price\"], ascending=True).plot.barh()"
      ],
      "execution_count": 26,
      "outputs": [
        {
          "output_type": "execute_result",
          "data": {
            "text/plain": [
              "<matplotlib.axes._subplots.AxesSubplot at 0x7f88cb8a1850>"
            ]
          },
          "metadata": {
            "tags": []
          },
          "execution_count": 26
        },
        {
          "output_type": "display_data",
          "data": {
            "image/png": "[encoded data removed]",
            "text/plain": [
              "<Figure size 432x288 with 1 Axes>"
            ]
          },
          "metadata": {
            "tags": [],
            "needs_background": "light"
          }
        }
      ]
    },
    {
      "cell_type": "markdown",
      "metadata": {
        "id": "lrc9jPdtPQyU"
      },
      "source": [
        "This aggregation shows what you would expect for vehicle depreciation.\n",
        "\n",
        "German cars cost more, and hold their value much better than French cars.\n",
        "\n",
        "Further aggregation analysis could look at:\n",
        "- variation from a know vehicle average price to get a sense of depreciation.\n",
        "- max and min prices agaist sales period.\n",
        "- correlation between average mileage and price"
      ]
    },
    {
      "cell_type": "markdown",
      "metadata": {
        "id": "fRutn4xoQUWi"
      },
      "source": [
        "## \"price\" to \"odometer_km\" Analysis\n",
        "\n",
        "### Unexpected Pricing\n",
        "Audi, BMW, and Mercedes are luxury car brands so we expect a high price, but Skoda, Volkswagen and Toyota are more affordable but their prices remain high.\n",
        "\n",
        "This is especially true for Skoda which appears to be in the wrong grouping.\n",
        "\n",
        "### Link to odometer value\n",
        "It's possible that the prestige cars are higher mileage, or that Skodas hold their value only when their mileage is low.\n",
        "\n",
        "To prove this hypothesis, we can construct a dataframe that allows us to visualise price and odometer values together.\n",
        "\n",
        "We can create a new aggregation dictionary and construct then join dataframes.\n",
        "\n",
        "First we should investigate this series because we haven't yet."
      ]
    },
    {
      "cell_type": "code",
      "metadata": {
        "colab": {
          "base_uri": "https://localhost:8080/"
        },
        "id": "ZVbZa-QfEM14",
        "outputId": "085626ab-e1bf-4c14-c7b8-76a550790080"
      },
      "source": [
        "autos[\"odometer_km\"].describe()"
      ],
      "execution_count": 30,
      "outputs": [
        {
          "output_type": "execute_result",
          "data": {
            "text/plain": [
              "count    371528.000000\n",
              "mean     125618.688228\n",
              "std       40112.337051\n",
              "min        5000.000000\n",
              "25%      125000.000000\n",
              "50%      150000.000000\n",
              "75%      150000.000000\n",
              "max      150000.000000\n",
              "Name: odometer_km, dtype: float64"
            ]
          },
          "metadata": {
            "tags": []
          },
          "execution_count": 30
        }
      ]
    },
    {
      "cell_type": "code",
      "metadata": {
        "colab": {
          "base_uri": "https://localhost:8080/"
        },
        "id": "7bW_MYOOE2uX",
        "outputId": "e91bae12-83a3-4962-eea2-ff3cd4ffb811"
      },
      "source": [
        "autos[\"odometer_km\"].value_counts()"
      ],
      "execution_count": 31,
      "outputs": [
        {
          "output_type": "execute_result",
          "data": {
            "text/plain": [
              "150000    240797\n",
              "125000     38067\n",
              "100000     15920\n",
              "90000      12523\n",
              "80000      11053\n",
              "70000       9773\n",
              "60000       8669\n",
              "50000       7615\n",
              "5000        7069\n",
              "40000       6376\n",
              "30000       6041\n",
              "20000       5676\n",
              "10000       1949\n",
              "Name: odometer_km, dtype: int64"
            ]
          },
          "metadata": {
            "tags": []
          },
          "execution_count": 31
        }
      ]
    },
    {
      "cell_type": "markdown",
      "metadata": {
        "id": "NoqMZg3ZE5mm"
      },
      "source": [
        "\"odometer_km\" seems nearly categorical it's so perfect."
      ]
    },
    {
      "cell_type": "code",
      "metadata": {
        "colab": {
          "base_uri": "https://localhost:8080/"
        },
        "id": "_OVzYywnDTxJ",
        "outputId": "c10fb000-e328-48f4-ebea-62895976fbb1"
      },
      "source": [
        "mean_odo_agg = {}\n",
        "\n",
        "top_16_index = autos[\"brand\"].value_counts(dropna=False, normalize=True).head(16)\n",
        "\n",
        "for brand in top_16_index.index:\n",
        "  brand_slice = autos[autos[\"brand\"] == brand]\n",
        "  mean_odo = brand_slice[\"odometer_km\"].mean()\n",
        "  mean_odo_agg[brand] = round(mean_odo/10)\n",
        "\n",
        "print(mean_odo_agg)\n"
      ],
      "execution_count": 83,
      "outputs": [
        {
          "output_type": "stream",
          "text": [
            "{'volkswagen': 12858, 'bmw': 13276, 'opel': 12891, 'mercedes_benz': 13066, 'audi': 12972, 'ford': 12384, 'renault': 12805, 'peugeot': 12497, 'fiat': 11685, 'seat': 12147, 'mazda': 12599, 'skoda': 11384, 'smart': 10062, 'citroen': 12051, 'nissan': 11979, 'toyota': 11734}\n"
          ],
          "name": "stdout"
        }
      ]
    },
    {
      "cell_type": "code",
      "metadata": {
        "colab": {
          "base_uri": "https://localhost:8080/",
          "height": 545
        },
        "id": "9gsiWQxhHS7K",
        "outputId": "d0a7fc70-072a-4ac6-c5a7-30d743d1b4c8"
      },
      "source": [
        "mean_odo_series = pd.Series(mean_odo_agg)\n",
        "mean_odo_df = pd.DataFrame(mean_odo_series, columns=[\"mean_odometer\"])\n",
        "mean_odo_df.sort_index()"
      ],
      "execution_count": 84,
      "outputs": [
        {
          "output_type": "execute_result",
          "data": {
            "text/html": [
              "<div>\n",
              "<style scoped>\n",
              "    .dataframe tbody tr th:only-of-type {\n",
              "        vertical-align: middle;\n",
              "    }\n",
              "\n",
              "    .dataframe tbody tr th {\n",
              "        vertical-align: top;\n",
              "    }\n",
              "\n",
              "    .dataframe thead th {\n",
              "        text-align: right;\n",
              "    }\n",
              "</style>\n",
              "<table border=\"1\" class=\"dataframe\">\n",
              "  <thead>\n",
              "    <tr style=\"text-align: right;\">\n",
              "      <th></th>\n",
              "      <th>mean_odometer</th>\n",
              "    </tr>\n",
              "  </thead>\n",
              "  <tbody>\n",
              "    <tr>\n",
              "      <th>audi</th>\n",
              "      <td>12972</td>\n",
              "    </tr>\n",
              "    <tr>\n",
              "      <th>bmw</th>\n",
              "      <td>13276</td>\n",
              "    </tr>\n",
              "    <tr>\n",
              "      <th>citroen</th>\n",
              "      <td>12051</td>\n",
              "    </tr>\n",
              "    <tr>\n",
              "      <th>fiat</th>\n",
              "      <td>11685</td>\n",
              "    </tr>\n",
              "    <tr>\n",
              "      <th>ford</th>\n",
              "      <td>12384</td>\n",
              "    </tr>\n",
              "    <tr>\n",
              "      <th>mazda</th>\n",
              "      <td>12599</td>\n",
              "    </tr>\n",
              "    <tr>\n",
              "      <th>mercedes_benz</th>\n",
              "      <td>13066</td>\n",
              "    </tr>\n",
              "    <tr>\n",
              "      <th>nissan</th>\n",
              "      <td>11979</td>\n",
              "    </tr>\n",
              "    <tr>\n",
              "      <th>opel</th>\n",
              "      <td>12891</td>\n",
              "    </tr>\n",
              "    <tr>\n",
              "      <th>peugeot</th>\n",
              "      <td>12497</td>\n",
              "    </tr>\n",
              "    <tr>\n",
              "      <th>renault</th>\n",
              "      <td>12805</td>\n",
              "    </tr>\n",
              "    <tr>\n",
              "      <th>seat</th>\n",
              "      <td>12147</td>\n",
              "    </tr>\n",
              "    <tr>\n",
              "      <th>skoda</th>\n",
              "      <td>11384</td>\n",
              "    </tr>\n",
              "    <tr>\n",
              "      <th>smart</th>\n",
              "      <td>10062</td>\n",
              "    </tr>\n",
              "    <tr>\n",
              "      <th>toyota</th>\n",
              "      <td>11734</td>\n",
              "    </tr>\n",
              "    <tr>\n",
              "      <th>volkswagen</th>\n",
              "      <td>12858</td>\n",
              "    </tr>\n",
              "  </tbody>\n",
              "</table>\n",
              "</div>"
            ],
            "text/plain": [
              "               mean_odometer\n",
              "audi                   12972\n",
              "bmw                    13276\n",
              "citroen                12051\n",
              "fiat                   11685\n",
              "ford                   12384\n",
              "mazda                  12599\n",
              "mercedes_benz          13066\n",
              "nissan                 11979\n",
              "opel                   12891\n",
              "peugeot                12497\n",
              "renault                12805\n",
              "seat                   12147\n",
              "skoda                  11384\n",
              "smart                  10062\n",
              "toyota                 11734\n",
              "volkswagen             12858"
            ]
          },
          "metadata": {
            "tags": []
          },
          "execution_count": 84
        }
      ]
    },
    {
      "cell_type": "code",
      "metadata": {
        "colab": {
          "base_uri": "https://localhost:8080/",
          "height": 545
        },
        "id": "QixKB7PfHq0Y",
        "outputId": "7ebedb7b-bf45-4226-a5d0-b19b734948f0"
      },
      "source": [
        "mean_price_df.sort_index()\n"
      ],
      "execution_count": 85,
      "outputs": [
        {
          "output_type": "execute_result",
          "data": {
            "text/html": [
              "<div>\n",
              "<style scoped>\n",
              "    .dataframe tbody tr th:only-of-type {\n",
              "        vertical-align: middle;\n",
              "    }\n",
              "\n",
              "    .dataframe tbody tr th {\n",
              "        vertical-align: top;\n",
              "    }\n",
              "\n",
              "    .dataframe thead th {\n",
              "        text-align: right;\n",
              "    }\n",
              "</style>\n",
              "<table border=\"1\" class=\"dataframe\">\n",
              "  <thead>\n",
              "    <tr style=\"text-align: right;\">\n",
              "      <th></th>\n",
              "      <th>mean_price</th>\n",
              "    </tr>\n",
              "  </thead>\n",
              "  <tbody>\n",
              "    <tr>\n",
              "      <th>audi</th>\n",
              "      <td>8597</td>\n",
              "    </tr>\n",
              "    <tr>\n",
              "      <th>bmw</th>\n",
              "      <td>8047</td>\n",
              "    </tr>\n",
              "    <tr>\n",
              "      <th>citroen</th>\n",
              "      <td>3694</td>\n",
              "    </tr>\n",
              "    <tr>\n",
              "      <th>fiat</th>\n",
              "      <td>2853</td>\n",
              "    </tr>\n",
              "    <tr>\n",
              "      <th>ford</th>\n",
              "      <td>3605</td>\n",
              "    </tr>\n",
              "    <tr>\n",
              "      <th>mazda</th>\n",
              "      <td>4031</td>\n",
              "    </tr>\n",
              "    <tr>\n",
              "      <th>mercedes_benz</th>\n",
              "      <td>7894</td>\n",
              "    </tr>\n",
              "    <tr>\n",
              "      <th>nissan</th>\n",
              "      <td>4601</td>\n",
              "    </tr>\n",
              "    <tr>\n",
              "      <th>opel</th>\n",
              "      <td>2939</td>\n",
              "    </tr>\n",
              "    <tr>\n",
              "      <th>peugeot</th>\n",
              "      <td>3231</td>\n",
              "    </tr>\n",
              "    <tr>\n",
              "      <th>renault</th>\n",
              "      <td>2384</td>\n",
              "    </tr>\n",
              "    <tr>\n",
              "      <th>seat</th>\n",
              "      <td>4455</td>\n",
              "    </tr>\n",
              "    <tr>\n",
              "      <th>skoda</th>\n",
              "      <td>6461</td>\n",
              "    </tr>\n",
              "    <tr>\n",
              "      <th>smart</th>\n",
              "      <td>3545</td>\n",
              "    </tr>\n",
              "    <tr>\n",
              "      <th>toyota</th>\n",
              "      <td>5212</td>\n",
              "    </tr>\n",
              "    <tr>\n",
              "      <th>volkswagen</th>\n",
              "      <td>5258</td>\n",
              "    </tr>\n",
              "  </tbody>\n",
              "</table>\n",
              "</div>"
            ],
            "text/plain": [
              "               mean_price\n",
              "audi                 8597\n",
              "bmw                  8047\n",
              "citroen              3694\n",
              "fiat                 2853\n",
              "ford                 3605\n",
              "mazda                4031\n",
              "mercedes_benz        7894\n",
              "nissan               4601\n",
              "opel                 2939\n",
              "peugeot              3231\n",
              "renault              2384\n",
              "seat                 4455\n",
              "skoda                6461\n",
              "smart                3545\n",
              "toyota               5212\n",
              "volkswagen           5258"
            ]
          },
          "metadata": {
            "tags": []
          },
          "execution_count": 85
        }
      ]
    },
    {
      "cell_type": "code",
      "metadata": {
        "colab": {
          "base_uri": "https://localhost:8080/",
          "height": 545
        },
        "id": "Y_UMJ5iPJKmX",
        "outputId": "10447299-5119-4b1c-b7c0-0ea2c3a337f1"
      },
      "source": [
        "join_them = [mean_odo_df, mean_price_df]\n",
        "mean_odo_price_df = pd.concat(join_them, axis=1)\n",
        "mean_odo_price_df.sort_values(by=\"mean_price\", ascending=False)"
      ],
      "execution_count": 91,
      "outputs": [
        {
          "output_type": "execute_result",
          "data": {
            "text/html": [
              "<div>\n",
              "<style scoped>\n",
              "    .dataframe tbody tr th:only-of-type {\n",
              "        vertical-align: middle;\n",
              "    }\n",
              "\n",
              "    .dataframe tbody tr th {\n",
              "        vertical-align: top;\n",
              "    }\n",
              "\n",
              "    .dataframe thead th {\n",
              "        text-align: right;\n",
              "    }\n",
              "</style>\n",
              "<table border=\"1\" class=\"dataframe\">\n",
              "  <thead>\n",
              "    <tr style=\"text-align: right;\">\n",
              "      <th></th>\n",
              "      <th>mean_odometer</th>\n",
              "      <th>mean_price</th>\n",
              "    </tr>\n",
              "  </thead>\n",
              "  <tbody>\n",
              "    <tr>\n",
              "      <th>audi</th>\n",
              "      <td>12972</td>\n",
              "      <td>8597</td>\n",
              "    </tr>\n",
              "    <tr>\n",
              "      <th>bmw</th>\n",
              "      <td>13276</td>\n",
              "      <td>8047</td>\n",
              "    </tr>\n",
              "    <tr>\n",
              "      <th>mercedes_benz</th>\n",
              "      <td>13066</td>\n",
              "      <td>7894</td>\n",
              "    </tr>\n",
              "    <tr>\n",
              "      <th>skoda</th>\n",
              "      <td>11384</td>\n",
              "      <td>6461</td>\n",
              "    </tr>\n",
              "    <tr>\n",
              "      <th>volkswagen</th>\n",
              "      <td>12858</td>\n",
              "      <td>5258</td>\n",
              "    </tr>\n",
              "    <tr>\n",
              "      <th>toyota</th>\n",
              "      <td>11734</td>\n",
              "      <td>5212</td>\n",
              "    </tr>\n",
              "    <tr>\n",
              "      <th>nissan</th>\n",
              "      <td>11979</td>\n",
              "      <td>4601</td>\n",
              "    </tr>\n",
              "    <tr>\n",
              "      <th>seat</th>\n",
              "      <td>12147</td>\n",
              "      <td>4455</td>\n",
              "    </tr>\n",
              "    <tr>\n",
              "      <th>mazda</th>\n",
              "      <td>12599</td>\n",
              "      <td>4031</td>\n",
              "    </tr>\n",
              "    <tr>\n",
              "      <th>citroen</th>\n",
              "      <td>12051</td>\n",
              "      <td>3694</td>\n",
              "    </tr>\n",
              "    <tr>\n",
              "      <th>ford</th>\n",
              "      <td>12384</td>\n",
              "      <td>3605</td>\n",
              "    </tr>\n",
              "    <tr>\n",
              "      <th>smart</th>\n",
              "      <td>10062</td>\n",
              "      <td>3545</td>\n",
              "    </tr>\n",
              "    <tr>\n",
              "      <th>peugeot</th>\n",
              "      <td>12497</td>\n",
              "      <td>3231</td>\n",
              "    </tr>\n",
              "    <tr>\n",
              "      <th>opel</th>\n",
              "      <td>12891</td>\n",
              "      <td>2939</td>\n",
              "    </tr>\n",
              "    <tr>\n",
              "      <th>fiat</th>\n",
              "      <td>11685</td>\n",
              "      <td>2853</td>\n",
              "    </tr>\n",
              "    <tr>\n",
              "      <th>renault</th>\n",
              "      <td>12805</td>\n",
              "      <td>2384</td>\n",
              "    </tr>\n",
              "  </tbody>\n",
              "</table>\n",
              "</div>"
            ],
            "text/plain": [
              "               mean_odometer  mean_price\n",
              "audi                   12972        8597\n",
              "bmw                    13276        8047\n",
              "mercedes_benz          13066        7894\n",
              "skoda                  11384        6461\n",
              "volkswagen             12858        5258\n",
              "toyota                 11734        5212\n",
              "nissan                 11979        4601\n",
              "seat                   12147        4455\n",
              "mazda                  12599        4031\n",
              "citroen                12051        3694\n",
              "ford                   12384        3605\n",
              "smart                  10062        3545\n",
              "peugeot                12497        3231\n",
              "opel                   12891        2939\n",
              "fiat                   11685        2853\n",
              "renault                12805        2384"
            ]
          },
          "metadata": {
            "tags": []
          },
          "execution_count": 91
        }
      ]
    },
    {
      "cell_type": "code",
      "metadata": {
        "colab": {
          "base_uri": "https://localhost:8080/",
          "height": 350
        },
        "id": "TOBYP59gJgwh",
        "outputId": "fcfdd262-9d35-4d66-f838-2bd2acbea116"
      },
      "source": [
        "import matplotlib.pyplot as plt\n",
        "\n",
        "#df2 = df.groupby(['Name', 'Abuse/NFF'])['Name'].count().unstack('Abuse/NFF').fillna(0)\n",
        "mean_odo_price_df.sort_values(by=\"mean_price\", ascending=False).head(6).plot(kind='bar', stacked=False)"
      ],
      "execution_count": 94,
      "outputs": [
        {
          "output_type": "execute_result",
          "data": {
            "text/plain": [
              "<matplotlib.axes._subplots.AxesSubplot at 0x7f88cb1d7c10>"
            ]
          },
          "metadata": {
            "tags": []
          },
          "execution_count": 94
        },
        {
          "output_type": "display_data",
          "data": {
            "image/png": "[encoded data removed]",
            "text/plain": [
              "<Figure size 432x288 with 1 Axes>"
            ]
          },
          "metadata": {
            "tags": [],
            "needs_background": "light"
          }
        }
      ]
    },
    {
      "cell_type": "markdown",
      "metadata": {
        "id": "jKSnipp0LZpT"
      },
      "source": [
        "### Inverse correlation between \"price\" and \"odometer_km\"\n",
        "As expected, we see a decline in the value for \"odometer_km\" as we move down to cheaper cars. In other words, high values for \"odometer_km\" suppress \"price\" such that there is an inverse correlation."
      ]
    }
  ]
}